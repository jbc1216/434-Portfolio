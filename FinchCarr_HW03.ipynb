{
 "cells": [
  {
   "cell_type": "markdown",
   "metadata": {},
   "source": [
    "# Finch Carr Homework 3\n",
    "## *Problem 1*\n",
    "- I want to compare two truth tables that compare the categorizations of photos by two different Neural Networks against a person\n",
    "### Problem 1A)\n",
    "- I want to know which algorithm between the two tables has made the fewest errors.\n",
    "  - The first table, TableA, sorted 3 birds as people and 5 people as birds\n",
    "    - This is a total of 8 mistakes by the first neural network, AlgorithmA\n",
    "  - The second table, TableB, sorted 1 bird as a person, and 11 people as birds\n",
    "    - This is a total of 12 mistakes by the second neural network, AlgorithmB\n",
    "- **Answer**: AlgorithmA made the fewest total mistakes\n",
    "### Problem 1B)\n",
    "- Since the two possible misidentification routes are weighted in terms of importance in an unequal manner, I can say that the misidentification of a true bird as a categorized person by any algorithm is the key mistake to analyze to determine which algorithm is better for the zoo\n",
    "  - AlgorithmA incorrectly identified 5/48 birds as people that it would hypothetically allow to leave freely from the bird exhibit\n",
    "  - AlgorithmB incorrectly identified 11/48 birds as people that it would hypothetically allow to leave freely from the bird exhibit\n",
    "- **ANSWER**: AlgorithmA is the best for the zoo because it is more accurate at identifying birds correcctly, with a lower identification error of 5/48\n",
    "### Problem 1C)\n",
    "- During the pandemic, only the zookeeper visits the bird exhibit so there is a total of 48 birds and 1 person in the exhibit\n",
    "- I want to make new truth tables for each of the two algorithms"
   ]
  },
  {
   "cell_type": "code",
   "execution_count": 2,
   "metadata": {},
   "outputs": [],
   "source": [
    "# Finch's Imports\n",
    "import numpy as np\n",
    "import matplotlib\n",
    "import matplotlib.pyplot as plt\n",
    "import scipy\n",
    "import scipy.stats as stats\n",
    "import pandas as pd\n",
    "import seaborn as sns\n",
    "import random\n",
    "%matplotlib inline"
   ]
  },
  {
   "cell_type": "code",
   "execution_count": 3,
   "metadata": {},
   "outputs": [
    {
     "data": {
      "text/html": [
       "<div>\n",
       "<style scoped>\n",
       "    .dataframe tbody tr th:only-of-type {\n",
       "        vertical-align: middle;\n",
       "    }\n",
       "\n",
       "    .dataframe tbody tr th {\n",
       "        vertical-align: top;\n",
       "    }\n",
       "\n",
       "    .dataframe thead th {\n",
       "        text-align: right;\n",
       "    }\n",
       "</style>\n",
       "<table border=\"1\" class=\"dataframe\">\n",
       "  <thead>\n",
       "    <tr style=\"text-align: right;\">\n",
       "      <th></th>\n",
       "      <th>True Bird</th>\n",
       "      <th>True Person</th>\n",
       "    </tr>\n",
       "  </thead>\n",
       "  <tbody>\n",
       "    <tr>\n",
       "      <th>NN Bird</th>\n",
       "      <td>45</td>\n",
       "      <td>0</td>\n",
       "    </tr>\n",
       "    <tr>\n",
       "      <th>NN Person</th>\n",
       "      <td>3</td>\n",
       "      <td>1</td>\n",
       "    </tr>\n",
       "  </tbody>\n",
       "</table>\n",
       "</div>"
      ],
      "text/plain": [
       "           True Bird  True Person\n",
       "NN Bird           45            0\n",
       "NN Person          3            1"
      ]
     },
     "execution_count": 3,
     "metadata": {},
     "output_type": "execute_result"
    }
   ],
   "source": [
    "# Recreating the NN Table with a 5/52 chance of misidentifying the zookeeper as a bird\n",
    "NN = {'True Bird': [45, 3],\n",
    "      'True Person': [0, 1]}\n",
    "NNframe = pd.DataFrame(NN, columns=['True Bird', 'True Person'], index=['NN Bird', 'NN Person'])\n",
    "\n",
    "# Recreating the NA Table with a 11/52 chance of misidentifying the zookeeper as a bird\n",
    "NA = {'True Bird': [47, 1],\n",
    "      'True Person': [0, 1]}\n",
    "NAframe = pd.DataFrame(NA, columns=['True Bird', 'True Person'], index=['NA Bird', 'NA Person'])\n",
    "NNframe"
   ]
  },
  {
   "cell_type": "code",
   "execution_count": 4,
   "metadata": {},
   "outputs": [
    {
     "data": {
      "text/html": [
       "<div>\n",
       "<style scoped>\n",
       "    .dataframe tbody tr th:only-of-type {\n",
       "        vertical-align: middle;\n",
       "    }\n",
       "\n",
       "    .dataframe tbody tr th {\n",
       "        vertical-align: top;\n",
       "    }\n",
       "\n",
       "    .dataframe thead th {\n",
       "        text-align: right;\n",
       "    }\n",
       "</style>\n",
       "<table border=\"1\" class=\"dataframe\">\n",
       "  <thead>\n",
       "    <tr style=\"text-align: right;\">\n",
       "      <th></th>\n",
       "      <th>True Bird</th>\n",
       "      <th>True Person</th>\n",
       "    </tr>\n",
       "  </thead>\n",
       "  <tbody>\n",
       "    <tr>\n",
       "      <th>NA Bird</th>\n",
       "      <td>47</td>\n",
       "      <td>0</td>\n",
       "    </tr>\n",
       "    <tr>\n",
       "      <th>NA Person</th>\n",
       "      <td>1</td>\n",
       "      <td>1</td>\n",
       "    </tr>\n",
       "  </tbody>\n",
       "</table>\n",
       "</div>"
      ],
      "text/plain": [
       "           True Bird  True Person\n",
       "NA Bird           47            0\n",
       "NA Person          1            1"
      ]
     },
     "execution_count": 4,
     "metadata": {},
     "output_type": "execute_result"
    }
   ],
   "source": [
    "NAframe"
   ]
  },
  {
   "cell_type": "markdown",
   "metadata": {},
   "source": [
    "- Above are the new tables for the NN and NA algorithms for the pandemic period, where both have respective probabilities applied to the zookeeper's identification\n",
    "  - AlgorithmA has a 9% chance of classifying the zookeeper as a bird, while AlgorithmB has a 21% chance of doing so. \n",
    "## *Problem 2*\n",
    "### Problem 2A)\n",
    "- I want to know what form a distribution takes if it the sum of two exponential distributions\n",
    "  - From my research I find that if I sum (through convolution) a standard exponential PDF (I've defined the exponential function as $E(x) = e^{-x}$) with itself, the resulting PDF is defined below:\n",
    "    - The PDF convolution of an exponential distribution takes the form of $E_{pdf}(x, \\lambda) = \\lambda e^{-\\lambda x}$ when those PDFs have equal rates of decay (defined as $\\lambda = 1/$mean), therefore having equal mean values as well\n",
    "      - For my PDFs, lambda and mean are both equal to 1\n",
    "    - The convolution of the two PDFs results in the summed PDF: $E2_{pdf}(z, \\lambda) = \\lambda^2 z e^{-\\lambda z}$ where z is an input measurement for the summed PDF to use to output a probability value\n",
    "      - **For my values, the PDF takes the form of $E2_{pdf}(z) = z e^{-z}$**\n",
    "- This PDF is equivalent to an Erlang PDF with shape parameter $k=2$ and scale parameter $\\lambda$ where $\\lambda$ is equivalent to the $\\lambda$ of 1 from my single exponential PDF\n",
    "  - $k$ is a variable in an Erlang distribution PDF (I've defined as $Er_{pdf}(x, \\lambda, k) = \\frac{\\lambda^k x^{k-1} e^{-\\lambda x}}{(k-1)!}$\n",
    "    - For a sum of Exponential PDFs, $k$ is the integer number of exponential distribution PDFs $E(x)_k$ being summed, so in this case $k=$**(Number of PDFs summed)**$ = 2$ because we convolve a total of 2 PDFs for a sum consisting of 2 distributions\n",
    "  - **For my specific comparison, the Erland PDF takes the form of $Er_{pdf} = {xe^{-x}}$**\n",
    "  - If $k$ was not an integer value, the resulting pdf would still resemble a Gamma distribution's PDF; my sum takes the form of a special case of the Gamma distribution called an Erlang distribution because $k$ is equal to an integer"
   ]
  },
  {
   "cell_type": "code",
   "execution_count": 16,
   "metadata": {},
   "outputs": [
    {
     "data": {
      "image/png": "[encoded data removed]",
      "text/plain": [
       "<Figure size 432x288 with 1 Axes>"
      ]
     },
     "metadata": {
      "needs_background": "light"
     },
     "output_type": "display_data"
    }
   ],
   "source": [
    "fig, ax = plt.subplots(1,1)\n",
    "#plt.yscale('log')\n",
    "\n",
    "# Setting up and plotting the Convolution Sum of 2 Exponential PDFs \n",
    "# (PDF must sum to 1)\n",
    "\n",
    "meanE, varE, skewE, kurtE = stats.expon.stats(moments='mvsk')\n",
    "lambdaE = 1/meanE\n",
    "dataEX = np.linspace(stats.expon.ppf(0.001), stats.expon.ppf(0.999), 200)\n",
    "exponA = stats.expon.pdf(dataEX, loc=0, scale=1)\n",
    "E2pdf = np.convolve(exponA, exponA)\n",
    "Enorm = E2pdf / sum(E2pdf)\n",
    "x = np.linspace(stats.expon.ppf(0.001, 0, 1), \n",
    "                 stats.expon.ppf(0.999, 0, 1), 399, endpoint=True)\n",
    "ax.plot(x, Enorm, 'r-', lw=5, alpha=0.6, label='Exponential Sum PDF')\n",
    "\n",
    "\n",
    "# Setting up and plotting the researched Erlang Distribution with the correct \n",
    "# parameters (PDF must sum to 1)\n",
    "k = 2\n",
    "lamER = 1\n",
    "eloc = 0\n",
    "ERsc = 1/lamER\n",
    "meanER, varER, skewER, kurtER = stats.erlang.stats(a=k, \n",
    "                                                   loc=eloc, scale=ERsc, \n",
    "                                                   moments='mvsk')\n",
    "dataER = np.linspace(stats.erlang.ppf(0.001, a=k, loc=eloc, scale=ERsc), \n",
    "                  stats.erlang.ppf(0.999, a=k, loc=eloc, scale=ERsc), 200)\n",
    "ErPDF = stats.erlang.pdf(dataER, a=k, loc=eloc, scale=ERsc)/sum(stats.erlang.pdf(dataER, a=k, loc=eloc, scale=ERsc))\n",
    "ax.plot(dataER, ErPDF, 'g-', lw=6, alpha=0.3, label='Erland PDF')\n",
    "ax.legend(loc='best')\n",
    "plt.show()"
   ]
  },
  {
   "cell_type": "code",
   "execution_count": 17,
   "metadata": {},
   "outputs": [
    {
     "data": {
      "text/plain": [
       "(2.145386542869013, array(2.), 1.0, 1.0000000000000016, 1.0000000000000004)"
      ]
     },
     "execution_count": 17,
     "metadata": {},
     "output_type": "execute_result"
    }
   ],
   "source": [
    "np.mean(E2pdf), meanER, lambdaE, sum(Enorm), sum(ErPDF)"
   ]
  },
  {
   "cell_type": "code",
   "execution_count": 15,
   "metadata": {},
   "outputs": [
    {
     "data": {
      "text/plain": [
       "True"
      ]
     },
     "execution_count": 15,
     "metadata": {},
     "output_type": "execute_result"
    }
   ],
   "source": [
    "vals = stats.expon.ppf([0.001, 0.25, 0.50, 0.75, 0.999])\n",
    "valsG = stats.erlang.ppf([0.001, 0.25, 0.50, 0.75, 0.999], a=2)\n",
    "np.allclose(stats.expon.cdf(vals), stats.erlang.cdf(valsG, a=2))"
   ]
  },
  {
   "cell_type": "markdown",
   "metadata": {},
   "source": [
    "- I see that my two distributions are equivalent because testing to see if the CDF outputs of the exponential and gamma distributions are equivalent returned an output of \"**True**\", reinforcing what the graph above shows when it plots two distribution functions that are completely independent of one another\n",
    "### Problem 2B)\n",
    "- I want to find the shape of the pdf of the ratio of two zero-mean unity variance gaussian PDFs\n",
    "  - This ratio takes the form of $X_1 / X_2$ where both distributions are the standard normal distributions that have the following properties:\n",
    "    - $\\mu =$ mean$ = 0$ and $\\sigma^2 = $variance$ = 1$\n",
    "- My research says that a ratio of two independent normal distributions takes the form of a Cauchy distribution\n",
    "  - I can define the Caucy PDF distribution as $C_{pdf}(x, \\mu, \\gamma) ={1 \\over \\pi \\gamma }\\left[{\\gamma ^{2} \\over (x-\\mu)^{2}+\\gamma ^{2}}\\right]$\n",
    "  - I recognize that $\\mu$ works the same as $\\mu$ in a normal distribution as a location parameter and that the $\\gamma$ variable is equivalent to the scale parameter of a normal distribution"
   ]
  },
  {
   "cell_type": "code",
   "execution_count": 74,
   "metadata": {},
   "outputs": [
    {
     "ename": "NameError",
     "evalue": "name 'xC' is not defined",
     "output_type": "error",
     "traceback": [
      "\u001b[0;31m---------------------------------------------------------------------------\u001b[0m",
      "\u001b[0;31mNameError\u001b[0m                                 Traceback (most recent call last)",
      "\u001b[0;32m<ipython-input-74-d04d98e04ead>\u001b[0m in \u001b[0;36m<module>\u001b[0;34m\u001b[0m\n\u001b[1;32m     10\u001b[0m \u001b[0;31m# Setting up and plotting the researched Cauchy PDF\u001b[0m\u001b[0;34m\u001b[0m\u001b[0;34m\u001b[0m\u001b[0;34m\u001b[0m\u001b[0m\n\u001b[1;32m     11\u001b[0m \u001b[0mmeanC\u001b[0m\u001b[0;34m,\u001b[0m \u001b[0mvarC\u001b[0m\u001b[0;34m,\u001b[0m \u001b[0mskewC\u001b[0m\u001b[0;34m,\u001b[0m \u001b[0mkurtC\u001b[0m \u001b[0;34m=\u001b[0m \u001b[0mstats\u001b[0m\u001b[0;34m.\u001b[0m\u001b[0mcauchy\u001b[0m\u001b[0;34m.\u001b[0m\u001b[0mstats\u001b[0m\u001b[0;34m(\u001b[0m\u001b[0malpha\u001b[0m\u001b[0;34m,\u001b[0m \u001b[0mmoments\u001b[0m\u001b[0;34m=\u001b[0m\u001b[0;34m'mvsk'\u001b[0m\u001b[0;34m)\u001b[0m\u001b[0;34m\u001b[0m\u001b[0;34m\u001b[0m\u001b[0m\n\u001b[0;32m---> 12\u001b[0;31m \u001b[0mxC\u001b[0m\u001b[0;34m\u001b[0m\u001b[0;34m\u001b[0m\u001b[0m\n\u001b[0m\u001b[1;32m     13\u001b[0m \u001b[0mcauchy\u001b[0m \u001b[0;34m=\u001b[0m \u001b[0mstats\u001b[0m\u001b[0;34m.\u001b[0m\u001b[0mcauchy\u001b[0m\u001b[0;34m.\u001b[0m\u001b[0mpdf\u001b[0m\u001b[0;34m(\u001b[0m\u001b[0mx\u001b[0m\u001b[0;34m)\u001b[0m\u001b[0;34m\u001b[0m\u001b[0;34m\u001b[0m\u001b[0m\n\u001b[1;32m     14\u001b[0m \u001b[0mGsum\u001b[0m \u001b[0;34m=\u001b[0m \u001b[0mnp\u001b[0m\u001b[0;34m.\u001b[0m\u001b[0mconvolve\u001b[0m\u001b[0;34m(\u001b[0m\u001b[0mgamma\u001b[0m\u001b[0;34m,\u001b[0m \u001b[0mgamma\u001b[0m\u001b[0;34m,\u001b[0m \u001b[0mmode\u001b[0m\u001b[0;34m=\u001b[0m\u001b[0;34m'full'\u001b[0m\u001b[0;34m)\u001b[0m\u001b[0;34m\u001b[0m\u001b[0;34m\u001b[0m\u001b[0m\n",
      "\u001b[0;31mNameError\u001b[0m: name 'xC' is not defined"
     ]
    },
    {
     "data": {
      "image/png": "[encoded data removed]",
      "text/plain": [
       "<Figure size 432x288 with 1 Axes>"
      ]
     },
     "metadata": {
      "needs_background": "light"
     },
     "output_type": "display_data"
    }
   ],
   "source": [
    "# Setting up and plotting the Ratio of 2 Normal PDFs\n",
    "fig, ax = plt.subplots(1,1)\n",
    "meanN, varN, skewN, kurtN = stats.norm.stats(moments='mvsk')\n",
    "N = np.linspace(stats.norm.ppf(0.01), stats.norm.ppf(0.99), 100)\n",
    "normPDF = stats.norm.pdf(N)\n",
    "Nratio = normPDF / normPDF\n",
    "ax.plot(np.arange(-50,50), Nratio, 'r-', lw=5, alpha=0.6, \n",
    "        label='$X_1 / X_2$')\n",
    "\n",
    "# Setting up and plotting the researched Cauchy PDF\n",
    "meanC, varC, skewC, kurtC = stats.cauchy.stats(alpha, moments='mvsk')\n",
    "xC = np.linspace(stats.cauchy.ppf(0.01), stats.cauchy.ppf(0.99), 100)\n",
    "cauchy = stats.cauchy.pdf(xC)\n",
    "Csum = np.convolve(cauchy, gamma, mode='full')\n",
    "ax.plot(np.arange(1,200), Gsum, 'g-', lw=10, alpha=0.3, \n",
    "       label='Researched Result of Sum of 2 Exponential PDFs')\n",
    "plt.show()"
   ]
  },
  {
   "cell_type": "code",
   "execution_count": 47,
   "metadata": {},
   "outputs": [
    {
     "data": {
      "text/plain": [
       "(49.3858362825524, 49.73853568086258)"
      ]
     },
     "execution_count": 47,
     "metadata": {},
     "output_type": "execute_result"
    }
   ],
   "source": [
    "x.max()**2, Esum.max()"
   ]
  },
  {
   "cell_type": "code",
   "execution_count": null,
   "metadata": {},
   "outputs": [],
   "source": []
  }
 ],
 "metadata": {
  "kernelspec": {
   "display_name": "Python 3",
   "language": "python",
   "name": "python3"
  },
  "language_info": {
   "codemirror_mode": {
    "name": "ipython",
    "version": 3
   },
   "file_extension": ".py",
   "mimetype": "text/x-python",
   "name": "python",
   "nbconvert_exporter": "python",
   "pygments_lexer": "ipython3",
   "version": "3.7.4"
  }
 },
 "nbformat": 4,
 "nbformat_minor": 4
}
