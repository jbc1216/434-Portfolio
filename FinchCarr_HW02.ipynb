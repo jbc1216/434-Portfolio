{
 "cells": [
  {
   "cell_type": "markdown",
   "metadata": {},
   "source": [
    "# Finch Carr PHYS 434 HW 2\n",
    "## Problem 1)\n",
    "- I want to find out which is more probable when rolling 2 six-sided dice: rolling two ones together or rolling sevens (dice sum to seven) as well as the ratio of the probabilities"
   ]
  },
  {
   "cell_type": "code",
   "execution_count": 2,
   "metadata": {},
   "outputs": [],
   "source": [
    "# Finch's Imports\n",
    "import numpy as np\n",
    "import matplotlib\n",
    "import matplotlib.pyplot as plt\n",
    "import scipy\n",
    "import scipy.stats as stats\n",
    "import seaborn as sns\n",
    "import random\n",
    "%matplotlib inline"
   ]
  },
  {
   "cell_type": "code",
   "execution_count": 3,
   "metadata": {},
   "outputs": [
    {
     "data": {
      "text/plain": [
       "6"
      ]
     },
     "execution_count": 3,
     "metadata": {},
     "output_type": "execute_result"
    }
   ],
   "source": [
    "# Die Simulator\n",
    "dice1 = stats.randint(1, 7)\n",
    "dice1.rvs(10000).min()\n",
    "dice2 = stats.randint(1, 7)\n",
    "dice2.rvs(10000).max()"
   ]
  },
  {
   "cell_type": "markdown",
   "metadata": {},
   "source": [
    "- In the *'stats.randint()'* function, the upper bound of 7 is exclusive so the integers possible are 1-6 like a real die piece\n",
    "- The *'.rvs(10000).max()'* function returns the maximum from the 10000 hypothetical rolls I made. Since it returned a max value of 6 over 10000 rolls, I can probably say that my dice roller simulation is working\n",
    "- I can now calculate the probability of rolling a specific integer between 1 and 6 using the *'.pmf()'* function"
   ]
  },
  {
   "cell_type": "code",
   "execution_count": 4,
   "metadata": {},
   "outputs": [
    {
     "data": {
      "text/plain": [
       "(0.16666666666666666, 0.0)"
      ]
     },
     "execution_count": 4,
     "metadata": {},
     "output_type": "execute_result"
    }
   ],
   "source": [
    "dice1.pmf(5), dice2.pmf(7)"
   ]
  },
  {
   "cell_type": "markdown",
   "metadata": {},
   "source": [
    "- I see that I have a 1/6 chance of rolling a 5, and a 0% chance of rolling a 7, both probability values are what I would expect from a fair die piece. \n",
    "- I can now calculate the probability of one dice roll, and knowing that two separate dice rolls are independent events, I can calculate the total probability of the two events occuring (rolling snake eyes) using the correct equation and parameters"
   ]
  },
  {
   "cell_type": "code",
   "execution_count": 5,
   "metadata": {},
   "outputs": [
    {
     "data": {
      "text/plain": [
       "2.7777777777777777"
      ]
     },
     "execution_count": 5,
     "metadata": {},
     "output_type": "execute_result"
    }
   ],
   "source": [
    "SnakeEyes = dice1.pmf(1)*dice2.pmf(1)\n",
    "SnakeEyes * 100"
   ]
  },
  {
   "cell_type": "markdown",
   "metadata": {},
   "source": [
    "- I find that there is a mere 2.7% chance that I would roll snake eyes on any given 2-dice roll\n",
    "- Let's find the probability for rolling numbers that sum to a total roll value of 7 next\n",
    "   - All possible combinations that sum to seven are (1-6, 2-5, 3-4, 4-3, 5-2, and 6-1) or the first half of those probabilities multiplied by a factor of 2 and summed"
   ]
  },
  {
   "cell_type": "code",
   "execution_count": 6,
   "metadata": {},
   "outputs": [
    {
     "data": {
      "text/plain": [
       "16.666666666666664"
      ]
     },
     "execution_count": 6,
     "metadata": {},
     "output_type": "execute_result"
    }
   ],
   "source": [
    "SevenSum = (2*(dice1.pmf(1)*dice2.pmf(6))) + (2*(dice1.pmf(2)*dice2.pmf(5))) + (2*(dice1.pmf(3)*dice2.pmf(4)))\n",
    "SevenSum * 100"
   ]
  },
  {
   "cell_type": "markdown",
   "metadata": {},
   "source": [
    "- I find that there is a 16% chance my two dice rolls will result in a total sum of 7"
   ]
  },
  {
   "cell_type": "code",
   "execution_count": 7,
   "metadata": {},
   "outputs": [
    {
     "data": {
      "text/plain": [
       "6.0"
      ]
     },
     "execution_count": 7,
     "metadata": {},
     "output_type": "execute_result"
    }
   ],
   "source": [
    "SevenSum / SnakeEyes"
   ]
  },
  {
   "cell_type": "markdown",
   "metadata": {},
   "source": [
    "- ANSWER: **Based on the probabilities calculated above, it is 6 times more likely that I'll roll any outcome with a sum of 7 than I will roll the only outcome with two 1's**"
   ]
  },
  {
   "cell_type": "markdown",
   "metadata": {},
   "source": [
    "# Problem 2\n",
    "\n",
    "- I now want to show how to use the convolution operator to determine the probability of the sum of 2 six-sided dice\n",
    "  - I already found the probability of two dice summing to 7 the long way, but convolution can help me more efficiently"
   ]
  },
  {
   "cell_type": "code",
   "execution_count": 8,
   "metadata": {},
   "outputs": [
    {
     "data": {
      "text/plain": [
       "array([ 1,  4, 10, 20, 35, 56, 70, 76, 73, 60, 36])"
      ]
     },
     "execution_count": 8,
     "metadata": {},
     "output_type": "execute_result"
    }
   ],
   "source": [
    "diceA = [1,2,3,4,5,6]\n",
    "diceB = [1,2,3,4,5,6]\n",
    "np.convolve(diceA, diceB, mode='full')"
   ]
  },
  {
   "cell_type": "markdown",
   "metadata": {},
   "source": [
    "- The input arrays are possible outcomes for each roll, not probabilities, so it is no surprise that the output array does not include probabilities\n",
    "- The discrete convolution function can be defined mathematically as $y(n) = (a * v)[n] = \\sum_{m = -\\infty}^{\\infty} a[m] v[n - m]$\n",
    "- Where (for our dice situation):\n",
    "    - y = the convolution output from f and g over an interval n\n",
    "      - y is an output array (in 'full' mode) of the length m+n-1 (so in our case the length=11)\n",
    "    - a = a 1D vector with a length m\n",
    "      - (I used 'diceA' array with length of 6) so m=6 in this case \n",
    "    - v = a 1D vector with a length n\n",
    "      - (I used 'diceB' array with length of 6) so n=6 in this case\n",
    "- The convolution operator flips the order of the 'v' array, then it \"slip 'n slides\" that vector over the 'a' vector, and finally it multiplies the overlapping numbers and then sums them together before sliding another length unit and repeating the process until the arrays no longer overlap anymore\n",
    "- I can prove this convolution function is correct and accurate by using the 'valid' mode in the 'np.convolve()' function, since it takes only the positions that have the arrays completely covering each other. Let's prove it\n",
    "  - The visual representation would be as follows:\n",
    "    - \\[1,2,3,4,5,6\\]\n",
    "    - \\[6,5,4,3,2,1\\]\n",
    "    - so 1 and 6 are multiplied, just like 2 and 5, so on and so forth"
   ]
  },
  {
   "cell_type": "code",
   "execution_count": 9,
   "metadata": {},
   "outputs": [
    {
     "data": {
      "text/plain": [
       "(56, 56)"
      ]
     },
     "execution_count": 9,
     "metadata": {},
     "output_type": "execute_result"
    }
   ],
   "source": [
    "# The visual representation's mathematics:\n",
    "Visual = ((1*6)+(2*5)+(3*4)+(4*3)+(5*2)+(6*1))\n",
    "\n",
    "#The convolution function with the 'valid' mode:\n",
    "ConvEx = np.convolve(diceA, diceB, mode='valid')\n",
    "Visual, ConvEx[0]"
   ]
  },
  {
   "cell_type": "markdown",
   "metadata": {},
   "source": [
    "- Since the two results are equal, I know that I can now use the np.convolve function to help me determine the sum of the probabilities of two dice rolls.\n",
    "- I know that 6 sides on each die lead to 36 possible combinations of roll results. Lots of different results will sum to the same total, however (i.e. A1 and B4 sum to 5 just like A2 and B3 do). I want the probability of each individual sum, like the probability from the previous question that my rolls will sum to 7, but I don't want to recode *SevenSum* and all its possible inputs for every possible sum from 2 (A1 and B1) to 12 (A6 and B6)\n",
    "- This is where convolution should be able to help! It turns out that the probability density of a sum of random numbers (whether those numbers are 1-6 and 1-6 summed, or 0-infinity and 0-infinity summed) is the convolution of their individual probability density functions\n",
    "  - Therefore, I need the individual probability density functions for each die result to convolve, and then we can combine them for the pdf of their sum (Commutative Property)\n",
    "  - I should also note that for two independent dice rolls A and B, $\\sigma_0 = \\sigma_A + \\sigma_B$, and $\\mu_0 = \\mu_A + \\mu_B$\n",
    "    - Their $\\sigma$ and $\\mu$ values add to a total value for each respectively, that is the mean and standard deviation for the distribution of the sums!"
   ]
  },
  {
   "cell_type": "code",
   "execution_count": 10,
   "metadata": {},
   "outputs": [
    {
     "data": {
      "text/plain": [
       "array([0.02777778, 0.05555556, 0.08333333, 0.11111111, 0.13888889,\n",
       "       0.16666667, 0.13888889, 0.11111111, 0.08333333, 0.05555556,\n",
       "       0.02777778])"
      ]
     },
     "execution_count": 10,
     "metadata": {},
     "output_type": "execute_result"
    }
   ],
   "source": [
    "# Let's create an array of probabilities for the 6 outcomes of a die, and create 2 since there are 2 dice to sum\n",
    "# dicePA can stand for probability of Die A, so on and so forth for infinite dice if we wanted them\n",
    "dicePA = [1/6, 1/6, 1/6, 1/6, 1/6, 1/6]\n",
    "dicePB = [1/6, 1/6, 1/6, 1/6, 1/6, 1/6]\n",
    "\n",
    "# Now I can convolve the probabilities of the two dice rolls to get a probability distribution of their sums\n",
    "DiceSumP = np.convolve(dicePA, dicePB, mode='full')\n",
    "DiceSumP"
   ]
  },
  {
   "cell_type": "markdown",
   "metadata": {},
   "source": [
    "- If I convolve the probability arrays of two fair dice, I see the probabilities of their combined sums in array order from 2 - 12"
   ]
  },
  {
   "cell_type": "markdown",
   "metadata": {},
   "source": [
    "### Analytical Portion of Number 2\n",
    "\n",
    "  - Sums and their respective options of outcome to achieve on dice A and B for reference\n",
    "   - 2: (1,1) x1 1\n",
    "   - 3: (2,1) x2 2\n",
    "   - 4: (1,3) x2, (2,2) x1 3\n",
    "   - 5: (1,4) x2, (2,3) x2 4\n",
    "   - 6: (1,5) x2, (2,4) x2, (3,3) x1 5\n",
    "   - 7: (1,6) x2, (2,5) x2, (3,4) x2 6\n",
    "   - 8: (2,6) x2, (3,5) x2, (4,4) x1 5\n",
    "   - 9: (3,6) x2, (4,5) x2, 4\n",
    "   - 10: (4,6) x2, (5,5) x1, 3\n",
    "   - 11: (5,6) x2\n",
    "   - 12: (6,6) x1\n",
    "\n",
    "- Total Outcomes = 1+2+3+4+5+6+5+4+3+2+1 = 36 total options\n",
    "\n",
    "- Probabilities of Each Sum (must sum to 36/36 i.e. 1)\n",
    "  - p2 = 1/36\n",
    "  - p3 = 2/36\n",
    "  - p4 = 3/36\n",
    "  - p5 = 4/36\n",
    "  - p6 = 5/36\n",
    "  - p7 = 6/36\n",
    "  - p8 = 5/36\n",
    "  - p9 = 4/36\n",
    "  - p10 = 3/36\n",
    "  - p11 = 2/36\n",
    "  - p12 = 1/36"
   ]
  },
  {
   "cell_type": "markdown",
   "metadata": {},
   "source": [
    "# Problem 3"
   ]
  },
  {
   "cell_type": "code",
   "execution_count": 22,
   "metadata": {},
   "outputs": [
    {
     "data": {
      "image/png": "[encoded data removed]",
      "text/plain": [
       "<Figure size 432x288 with 1 Axes>"
      ]
     },
     "metadata": {
      "needs_background": "light"
     },
     "output_type": "display_data"
    }
   ],
   "source": [
    "fig, ax = plt.subplots(1,1)\n",
    "plt.yscale('log')\n",
    "DiceSumP = np.convolve(dicePA, dicePB, mode='full')\n",
    "# Create our x-axis we can plot the step function of a 2-dice sum pdf on\n",
    "dice2 = np.array([2, 3, 4, 5, 6, 7, 8, 9, 10, 11, 12])\n",
    "    \n",
    "# Let's plot a histogram of those 10000 hypothetical dice rolls \n",
    "# and compare it to the normal distribution\n",
    "ax.step(dice2, DiceSumP, alpha=0.4, label='Step Plot PDF')\n",
    "plt.xlabel('Value of Sum')\n",
    "plt.xlim(1,13,1)\n",
    "plt.ylabel('Probability Fraction')\n",
    "plt.xticks(np.arange(1,13,1))\n",
    "plt.legend(loc='best')\n",
    "plt.show()"
   ]
  },
  {
   "cell_type": "markdown",
   "metadata": {},
   "source": [
    "- Above I can see a step function of the probabilities of rolling a set of sums with two dice\n",
    "- I can calculate the mean of the distribution of sums using convolution of A and B where:\n",
    "  - A = the probability of the sums\n",
    "  - B = the reversed array of the values of possible sums themselves\n",
    "  - **NOTE:** I reverse the array of sums so that each probability is associated with its specific outcome probability when the reversed array is then reversed again by the convolution function itself (*in this specific case the probabilities are symmetric so reversing the order doesn't matter, but in principle the array should be reversed*)\n",
    "- Variance can be calculated since I also know the variance of two completely independent events to be related to the individual variance of the independent events respectively by the following equation:\n",
    "  - $Var(A+B) = Var(A) + Var(B)$\n",
    "  - I also know that the events are independent but equal so their individual variances are the same, therefore we can state:\n",
    "    - $Var(A+B) = 2Var(A) = 2Var(B)$"
   ]
  },
  {
   "cell_type": "code",
   "execution_count": 19,
   "metadata": {},
   "outputs": [
    {
     "name": "stdout",
     "output_type": "stream",
     "text": [
      "ANSWER: The mean of the 2-dice sum distribution is 7.0, and the Variance of the distribution is 5.833333333333333\n"
     ]
    }
   ],
   "source": [
    "DiceSumP = np.convolve(dicePA, dicePB, mode='full')\n",
    "dice12 = np.arange(2,13,1)\n",
    "dice12r = dice12[::-1]\n",
    "mu2 = np.convolve(DiceSumP, dice12r, mode='valid')\n",
    "var2 = 2*np.var([1,2,3,4,5,6])\n",
    "print(f'ANSWER: The mean of the 2-dice sum distribution is {mu2[0]}, and the Variance of the distribution is {var2}')"
   ]
  },
  {
   "cell_type": "markdown",
   "metadata": {},
   "source": [
    "# Problem 4\n",
    "- I want to find the distribution of the sums of 10 dice rolls\n",
    "- I should be able to create a convolution in a for loop such that the probability distribution of one dice roll convolves itself as many times as it takes to reach the pdf of 10 dice rolls\n",
    "- The length of the array of a 10-dice roll pdf should be equal to amount of possible sums achievable (i.e. one probability value for every possible sum achievable)\n",
    "  - Possible sums are MaxSum - MinSum (inclusive of the MinSum Value), in other words, MaxSum - MinSum + 1:\n",
    "      - For our situation, possible sums = 60 - 10 (inclusive of 10) which is equal to 60-10+1=51 so there are 51 possible sums achievable on 10 dice rolls\n",
    "  - If the length of my output array is 51 terms, then I can say that the for loop completed the convolutions required to return the correct pdf"
   ]
  },
  {
   "cell_type": "code",
   "execution_count": 24,
   "metadata": {},
   "outputs": [
    {
     "data": {
      "text/plain": [
       "51"
      ]
     },
     "execution_count": 24,
     "metadata": {},
     "output_type": "execute_result"
    }
   ],
   "source": [
    "DiceSumP = np.convolve(dicePA, dicePB, mode='full')\n",
    "diceP1 = [1/6, 1/6, 1/6, 1/6, 1/6, 1/6]\n",
    "diceP2 = [1/6, 1/6, 1/6, 1/6, 1/6, 1/6]\n",
    "\n",
    "roll10 = 9\n",
    "\n",
    "for i in range(roll10):\n",
    "    if i == 0:\n",
    "        DiceP10 = np.convolve(diceP1, diceP2, mode='full')\n",
    "    else:\n",
    "        DiceP10 = np.convolve(diceP1, DiceP10, mode='full')\n",
    "len(DiceP10)"
   ]
  },
  {
   "cell_type": "markdown",
   "metadata": {},
   "source": [
    "- So since our probability array of 10 dice has 51 probabilities inside, we know that our convolution for loop was successful\n",
    "- Now we can plot our 10 dice roll PDF distribution against all possible sums"
   ]
  },
  {
   "cell_type": "code",
   "execution_count": 188,
   "metadata": {},
   "outputs": [
    {
     "data": {
      "image/png": "[encoded data removed]",
      "text/plain": [
       "<Figure size 432x288 with 1 Axes>"
      ]
     },
     "metadata": {
      "needs_background": "light"
     },
     "output_type": "display_data"
    }
   ],
   "source": [
    "fig, ax = plt.subplots(1,1)\n",
    "plt.yscale('log')\n",
    "SumRoll10 = np.arange(10,61,1)\n",
    "SumRoll10r = SumRoll10[::-1]\n",
    "mu10 = np.convolve(DiceP10, SumRoll10r, mode='valid')\n",
    "var10 = 10*np.var([1,2,3,4,5,6])\n",
    "sigma10 = np.sqrt(var10)\n",
    "\n",
    "# Let's create a random variable subset to plot a Normal Distribution with the \n",
    "# same mean and standard deviation on that we'll compare to our results\n",
    "x = np.sort(stats.norm.rvs(mu10, sigma10, 1000000))\n",
    "ax.plot(x, stats.norm.pdf(x, mu10, sigma10), label='Normal PDF')\n",
    "\n",
    "# Let's plot a step function with an x-axis of possible sums and outputs of our\n",
    "# probability distribution and compare it to the normal distribution\n",
    "ax.step(SumRoll10, DiceP10, alpha=0.4, label='10 Dice PDF')\n",
    "plt.xlabel('Sum of 10 Dice Rolls')\n",
    "plt.xlim(9,61,1)\n",
    "ax.legend(loc='best')\n",
    "plt.ylabel('Probability Fraction')\n",
    "plt.xticks(np.arange(10,61,5)) \n",
    "plt.show()"
   ]
  },
  {
   "cell_type": "markdown",
   "metadata": {},
   "source": [
    "- We can see above that the distribution of the average sum of 10 dice rolls fits a normal distribution curve very well. Thus we can say that the distribution is Gaussian if not very very very similar to a Gaussian distribution. The distribution achieves this because of the averaging of the 10 separate distributions. \n",
    "  - If we had averaged over the sum of 100 dice rolls, the distribution would appear even more Gaussian in form\n",
    "  - The averaging by convolution of the sums and their probabilities helps the distribution by application of the Central Limit Theorem\n",
    "    - This theorem states that a population with a mean $\\mu$ and standard deviation $\\sigma$ with sufficiently large enough samples from that population, the distribution of the sample means will be approximately normally distributed\n",
    "    - Since our population was the numbers 1-6 on a die piece picked 10 times and summed, and then that population was resampled over and over again, our data began to take the shape of a normalized distribution."
   ]
  }
 ],
 "metadata": {
  "kernelspec": {
   "display_name": "Python 3",
   "language": "python",
   "name": "python3"
  },
  "language_info": {
   "codemirror_mode": {
    "name": "ipython",
    "version": 3
   },
   "file_extension": ".py",
   "mimetype": "text/x-python",
   "name": "python",
   "nbconvert_exporter": "python",
   "pygments_lexer": "ipython3",
   "version": "3.7.4"
  }
 },
 "nbformat": 4,
 "nbformat_minor": 4
}
