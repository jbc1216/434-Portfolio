{
 "cells": [
  {
   "cell_type": "markdown",
   "metadata": {},
   "source": [
    "# Finch Carr PHYS 434 HW 2\n",
    "## Problem 1)\n",
    "- We want to find out which is more probable when rolling 2 six-sided dice: rolling two ones together or rolling sevens (dice sum to seven)? What is the ratio of the probabilities?"
   ]
  },
  {
   "cell_type": "code",
   "execution_count": 1,
   "metadata": {},
   "outputs": [],
   "source": [
    "# Finch's Imports\n",
    "import numpy as np\n",
    "import matplotlib\n",
    "import matplotlib.pyplot as plt\n",
    "import scipy\n",
    "import scipy.stats as stats\n",
    "import seaborn as sns\n",
    "import random\n",
    "%matplotlib inline"
   ]
  },
  {
   "cell_type": "code",
   "execution_count": 2,
   "metadata": {},
   "outputs": [
    {
     "data": {
      "text/plain": [
       "6"
      ]
     },
     "execution_count": 2,
     "metadata": {},
     "output_type": "execute_result"
    }
   ],
   "source": [
    "# Die Simulator\n",
    "dice1 = stats.randint(1, 7)\n",
    "dice1.rvs(10000).min()\n",
    "dice2 = stats.randint(1, 7)\n",
    "dice2.rvs(10000).max()"
   ]
  },
  {
   "cell_type": "markdown",
   "metadata": {},
   "source": [
    "- In the *'stats.randint()'* function, the upper bound of 7 is exclusive so the integers possible are 1-6 like a real die piece\n",
    "- The *'.rvs(10000).max()'* function returns the maximum from the 10000 hypothetical rolls I made. Since it returned a max value of 6 over 10000 rolls, I can probably say that my dice roller simulation is working\n",
    "- I can now calculate the probability of rolling a specific integer between 1 and 6 using the *'.pmf()'* function"
   ]
  },
  {
   "cell_type": "code",
   "execution_count": 3,
   "metadata": {},
   "outputs": [
    {
     "data": {
      "text/plain": [
       "(0.16666666666666666, 0.0)"
      ]
     },
     "execution_count": 3,
     "metadata": {},
     "output_type": "execute_result"
    }
   ],
   "source": [
    "dice1.pmf(5), dice2.pmf(7)"
   ]
  },
  {
   "cell_type": "markdown",
   "metadata": {},
   "source": [
    "- I see that I have a 1/6 chance of rolling a 5, and a 0% chance of rolling a 7, both values are what I would expect. \n",
    "- I can now calculate the probability of one dice roll, and knowing that two separate dice rolls are independent events, I can calculate the total probability of the two events occuring (rolling snake eyes) using the correct equation and parameters"
   ]
  },
  {
   "cell_type": "code",
   "execution_count": 4,
   "metadata": {},
   "outputs": [
    {
     "data": {
      "text/plain": [
       "2.7777777777777777"
      ]
     },
     "execution_count": 4,
     "metadata": {},
     "output_type": "execute_result"
    }
   ],
   "source": [
    "SnakeEyes = dice1.pmf(1)*dice2.pmf(1)\n",
    "SnakeEyes * 100"
   ]
  },
  {
   "cell_type": "markdown",
   "metadata": {},
   "source": [
    "- I find that there is a mere 2.7% chance that I would roll snake eyes on any given 2-dice roll\n",
    "- Let's find the probability for rolling numbers that sum to a total roll value of 7 next\n",
    "   - All possible combinations that sum to seven are (1-6, 2-5, 3-4, 4-3, 5-2, and 6-1) or the first half of those probabilities multiplied by a factor of 2 and summed"
   ]
  },
  {
   "cell_type": "code",
   "execution_count": 183,
   "metadata": {},
   "outputs": [
    {
     "data": {
      "text/plain": [
       "16.666666666666664"
      ]
     },
     "execution_count": 183,
     "metadata": {},
     "output_type": "execute_result"
    }
   ],
   "source": [
    "SevenSum = (2*(dice1.pmf(1)*dice2.pmf(6))) + (2*(dice1.pmf(2)*dice2.pmf(5))) + (2*(dice1.pmf(3)*dice2.pmf(4)))\n",
    "SevenSum * 100"
   ]
  },
  {
   "cell_type": "markdown",
   "metadata": {},
   "source": [
    "- I find that there is a 16% chance my two dice rolls will result in a total sum of 7"
   ]
  },
  {
   "cell_type": "code",
   "execution_count": 6,
   "metadata": {},
   "outputs": [
    {
     "data": {
      "text/plain": [
       "6.0"
      ]
     },
     "execution_count": 6,
     "metadata": {},
     "output_type": "execute_result"
    }
   ],
   "source": [
    "SevenSum / SnakeEyes"
   ]
  },
  {
   "cell_type": "markdown",
   "metadata": {},
   "source": [
    "- ANSWER: **It is 6 times more likely that I will roll a sum of 7 than rolling snake eyes**"
   ]
  },
  {
   "cell_type": "markdown",
   "metadata": {},
   "source": [
    "# Problem 2\n",
    "\n",
    "- I now want to show how to use the convolution operator to determine the probability of the sum of 2 six-sided dice"
   ]
  },
  {
   "cell_type": "code",
   "execution_count": 7,
   "metadata": {},
   "outputs": [
    {
     "data": {
      "text/plain": [
       "array([ 1,  4, 10, 20, 35, 56, 70, 76, 73, 60, 36])"
      ]
     },
     "execution_count": 7,
     "metadata": {},
     "output_type": "execute_result"
    }
   ],
   "source": [
    "diceA = [1,2,3,4,5,6]\n",
    "diceB = [1,2,3,4,5,6]\n",
    "np.convolve(diceA, diceB, mode='full')"
   ]
  },
  {
   "cell_type": "markdown",
   "metadata": {},
   "source": [
    "- The discrete convolution function can be defined mathematically as $y(n) = (a * v)[n] = \\sum_{m = -\\infty}^{\\infty} a[m] v[n - m]$\n",
    "- Where (for our dice situation):\n",
    "    - y = the convolution output from f and g over an interval n\n",
    "      - y is an output array (in 'full' mode) of the length m+n-1 (so in our case the length=11)\n",
    "    - a = a 1D vector with a length m\n",
    "      - (I used 'diceA' array with length of 6) so m=6 in this case \n",
    "    - v = a 1D vector with a length n\n",
    "      - (I used 'diceB' array with length of 6) so n=6 in this case\n",
    "- The convolution operator flips the order of the 'v' array, then it \"slip 'n slides\" that vector over the 'a' vector, and finally it multiplies the overlapping numbers and then sums them together before sliding another length unit and repeating the process until the arrays no longer overlap anymore\n",
    "- I can prove this convolution function is correct and accurate by using the 'valid' mode in the 'np.convolve()' function, since it takes only the positions that have the arrays completely covering each other. Let's prove it\n",
    "  - The visual representation would be as follows:\n",
    "    - \\[1,2,3,4,5,6\\]\n",
    "    - \\[6,5,4,3,2,1\\]\n",
    "    - so 1 and 6 are multiplied, just like 2 and 5, so on and so forth"
   ]
  },
  {
   "cell_type": "code",
   "execution_count": 130,
   "metadata": {},
   "outputs": [
    {
     "data": {
      "text/plain": [
       "(56, 56)"
      ]
     },
     "execution_count": 130,
     "metadata": {},
     "output_type": "execute_result"
    }
   ],
   "source": [
    "# The visual representation's mathematics:\n",
    "Visual = ((1*6)+(2*5)+(3*4)+(4*3)+(5*2)+(6*1))\n",
    "\n",
    "#The convolution function with the 'valid' mode:\n",
    "ConvEx = np.convolve(diceA, diceB, mode='valid')\n",
    "Visual, ConvEx[0]"
   ]
  },
  {
   "cell_type": "markdown",
   "metadata": {},
   "source": [
    "- Since the two results are equal, I know that I can now use the np.convolve function to help me determine the sum of the probabilities of two dice rolls.\n",
    "- I know that 6 sides on each die lead to 36 possible combinations of roll results. Lots of different results will sum to the same total, however (i.e. A1 and B4 sum to 5 just like A2 and B3 do). I want the probability of each individual sum, like the probability from the previous question that my rolls will sum to 7, but I don't want to recode *SevenSum* and all its possible inputs for every possible sum from 2 (A1 and B1) to 12 (A6 and B6)\n",
    "- This is where convolution should be able to help! It turns out that the probability density of a sum of random numbers (whether those numbers are 1-6 and 1-6 summed, or 0-infinity and 0-infinity summed) is the convolution of their individual probability density functions\n",
    "  - Therefore, we need the individual probability density functions for each die result to convolve, and then we can combine them for the pdf of their sum (Commutative Property)\n",
    "  - We should also note that for two independent dice rolls A and B, $\\sigma_0 = \\sigma_A + \\sigma_B$, and $\\mu_0 = \\mu_A + \\mu_B$\n",
    "    - Their $\\sigma$ and $\\mu$ values add to a total value for each respectively, that is the mean and standard deviation for the distribution of the sums!"
   ]
  },
  {
   "cell_type": "code",
   "execution_count": 185,
   "metadata": {},
   "outputs": [
    {
     "data": {
      "image/png": "[encoded data removed]",
      "text/plain": [
       "<Figure size 432x288 with 1 Axes>"
      ]
     },
     "metadata": {
      "needs_background": "light"
     },
     "output_type": "display_data"
    }
   ],
   "source": [
    "fig, ax = plt.subplots(1,1)\n",
    "plt.yscale('log')\n",
    "\n",
    "#Number of rolls should be high to normalize our sum\n",
    "rolls = 1000\n",
    "\n",
    "#lets make an automatic dice roll for-loop using the 'stats.randint' function\n",
    "#Remember from earlier that the function does not include the upper bound\n",
    "Roll = []\n",
    "for i in range(rolls):\n",
    "    result = stats.randint(1,7).rvs(1)\n",
    "    Roll.append(result)\n",
    "\n",
    "mu1 = 3.5\n",
    "std1 = 1.71\n",
    "\n",
    "# Create our x-axis we can plot a one-die pdf on\n",
    "x = np.linspace(stats.uniform.ppf(0.001, loc=0, scale=6), \n",
    "                stats.uniform.ppf(0.999, loc=0, scale=6), num=rolls)\n",
    "\n",
    "# Plot Distribution against input x-values\n",
    "ax.plot(x, stats.uniform.pdf(x, scale=6, loc=0), 'r-', lw=7, \n",
    "        alpha=0.7, label='Normal PDF')\n",
    "    \n",
    "plt.xlabel('Result')\n",
    "plt.ylabel('Probability Fraction')\n",
    "plt.xticks(np.arange(0,7,1)) \n",
    "plt.show()"
   ]
  },
  {
   "cell_type": "code",
   "execution_count": 131,
   "metadata": {},
   "outputs": [],
   "source": [
    "#Sums and their respective options of outcome to achieve on dice A and B for reference\n",
    "#2 (1,1) x1 1\n",
    "#3 (2,1) x2 2\n",
    "#4 (1,3) x2, (2,2) x1 3\n",
    "#5 (1,4) x2, (2,3) x2 4\n",
    "#6 (1,5) x2, (2,4) x2, (3,3) x1 5\n",
    "#7 (1,6) x2, (2,5) x2, (3,4) x2 6\n",
    "#8 (2,6) x2, (3,5) x2, (4,4) x1 5\n",
    "#9 (3,6) x2, (4,5) x2, 4\n",
    "#10 (4,6) x2, (5,5) x1, 3\n",
    "#11 (5,6) x2\n",
    "#12 (6,6) x1\n",
    "\n",
    "#Total Outcomes = 1+2+3+4+5+6+5+4+3+2+1 = 36 total options\n",
    "\n",
    "# Probabilities of Each sum (must sum to 36/36 i.e. 1)\n",
    "p2 = 1/36\n",
    "p3 = 2/36\n",
    "p4 = 3/36\n",
    "p5 = 4/36\n",
    "p6 = 5/36\n",
    "p7 = 6/36\n",
    "p8 = 5/36\n",
    "p9 = 4/36\n",
    "p10 = 3/36\n",
    "p11 = 2/36\n",
    "p12 = 1/36\n",
    "weight=(1/36, 2/36, 3/36, 4/36, 5/36, 6/36, 5/36, 4/36, 3/36, 2/36, 1/36)"
   ]
  },
  {
   "cell_type": "code",
   "execution_count": 181,
   "metadata": {},
   "outputs": [
    {
     "data": {
      "image/png": "[encoded data removed]",
      "text/plain": [
       "<Figure size 432x288 with 1 Axes>"
      ]
     },
     "metadata": {
      "needs_background": "light"
     },
     "output_type": "display_data"
    }
   ],
   "source": [
    "fig, ax = plt.subplots(1,1)\n",
    "plt.yscale('log')\n",
    "\n",
    "#Number of rolls should be high to normalize our sum\n",
    "rolls = 1000\n",
    "\n",
    "#lets make an automatic dice roll for-loop using the 'stats.randint' function\n",
    "#Remember from earlier that the function does not include the upper bound\n",
    "Roll2 = []\n",
    "for i in range(rolls):\n",
    "    result = stats.randint(1,7).rvs(2).sum()\n",
    "    Roll2.append(result)\n",
    "\n",
    "mu2 = 7\n",
    "std2 = 5.83\n",
    "\n",
    "# Create our x-axis we can plot a one-die pdf on\n",
    "y = np.linspace(stats.norm.ppf(0.001, loc=mu2, scale=std2), \n",
    "                stats.norm.ppf(0.999, loc=mu2, scale=std2), num=rolls)\n",
    "\n",
    "# Plot Distribution against input x values\n",
    "ax.plot(y, stats.norm.pdf(y, scale=std2, loc=mu2), 'r-', lw=7, \n",
    "        alpha=0.7, label='Normal PDF')\n",
    "    \n",
    "# Let's plot a histogram of those 10000 hypothetical dice rolls \n",
    "# and compare it to the normal distribution\n",
    "ax.hist(Roll2, bins=np.arange(0,13,1), density=True, histtype = 'stepfilled', \n",
    "        alpha=0.4, label='Frozen PDF')\n",
    "plt.xlabel('Sum')\n",
    "plt.xlim(1,13,1)\n",
    "plt.ylim(0.0001, 0.20)\n",
    "plt.ylabel('Probability Fraction')\n",
    "plt.xticks(np.arange(1,13,1)) \n",
    "plt.show()"
   ]
  },
  {
   "cell_type": "code",
   "execution_count": null,
   "metadata": {},
   "outputs": [],
   "source": []
  }
 ],
 "metadata": {
  "kernelspec": {
   "display_name": "Python 3",
   "language": "python",
   "name": "python3"
  },
  "language_info": {
   "codemirror_mode": {
    "name": "ipython",
    "version": 3
   },
   "file_extension": ".py",
   "mimetype": "text/x-python",
   "name": "python",
   "nbconvert_exporter": "python",
   "pygments_lexer": "ipython3",
   "version": "3.7.4"
  }
 },
 "nbformat": 4,
 "nbformat_minor": 4
}
