{
 "cells": [
  {
   "cell_type": "markdown",
   "metadata": {},
   "source": [
    "# Finch Carr - Lab 07\n",
    "## Event Selection Optimization\n",
    "- I am supposed to pick either high or low pT samples, and in that sample, there are dedicated training samples for event selection optimization. \n",
    "### Problem 1\n",
    "- I want to make a stacked histogram plot for the mass variable of my data and then compare $\\frac{N_{higgs}}{\\sqrt{N_{QCD}}}$ ***without event selection***\n",
    "  - If the factors above are equivalent, I want to then explain why they are equivalent"
   ]
  },
  {
   "cell_type": "code",
   "execution_count": 1,
   "metadata": {},
   "outputs": [],
   "source": [
    "import numpy as np\n",
    "import pandas as pd\n",
    "import matplotlib\n",
    "import matplotlib.pyplot as plt\n",
    "import scipy\n",
    "from scipy import stats\n",
    "import pickle as pk\n",
    "import h5py\n",
    "%matplotlib inline\n",
    "\n",
    "#this sets the size of the plot to something useful\n",
    "plt.rcParams[\"figure.figsize\"] = (20,15)"
   ]
  },
  {
   "cell_type": "code",
   "execution_count": 2,
   "metadata": {},
   "outputs": [
    {
     "name": "stdout",
     "output_type": "stream",
     "text": [
      "2 1400000\n"
     ]
    },
    {
     "data": {
      "text/html": [
       "<div>\n",
       "<style scoped>\n",
       "    .dataframe tbody tr th:only-of-type {\n",
       "        vertical-align: middle;\n",
       "    }\n",
       "\n",
       "    .dataframe tbody tr th {\n",
       "        vertical-align: top;\n",
       "    }\n",
       "\n",
       "    .dataframe thead th {\n",
       "        text-align: right;\n",
       "    }\n",
       "</style>\n",
       "<table border=\"1\" class=\"dataframe\">\n",
       "  <thead>\n",
       "    <tr style=\"text-align: right;\">\n",
       "      <th></th>\n",
       "      <th>pt</th>\n",
       "      <th>eta</th>\n",
       "      <th>phi</th>\n",
       "      <th>mass</th>\n",
       "      <th>ee2</th>\n",
       "      <th>ee3</th>\n",
       "      <th>d2</th>\n",
       "      <th>angularity</th>\n",
       "      <th>t1</th>\n",
       "      <th>t2</th>\n",
       "      <th>t3</th>\n",
       "      <th>t21</th>\n",
       "      <th>t32</th>\n",
       "      <th>KtDeltaR</th>\n",
       "    </tr>\n",
       "  </thead>\n",
       "  <tbody>\n",
       "    <tr>\n",
       "      <th>0</th>\n",
       "      <td>472.074292</td>\n",
       "      <td>0.137052</td>\n",
       "      <td>-2.535145</td>\n",
       "      <td>125.150365</td>\n",
       "      <td>0.126581</td>\n",
       "      <td>0.002633</td>\n",
       "      <td>1.298020</td>\n",
       "      <td>0.008218</td>\n",
       "      <td>0.739787</td>\n",
       "      <td>0.283689</td>\n",
       "      <td>0.174944</td>\n",
       "      <td>0.383474</td>\n",
       "      <td>0.616674</td>\n",
       "      <td>0.557407</td>\n",
       "    </tr>\n",
       "    <tr>\n",
       "      <th>1</th>\n",
       "      <td>470.405678</td>\n",
       "      <td>-0.039157</td>\n",
       "      <td>0.069669</td>\n",
       "      <td>130.552672</td>\n",
       "      <td>0.118071</td>\n",
       "      <td>0.002379</td>\n",
       "      <td>1.445626</td>\n",
       "      <td>0.013822</td>\n",
       "      <td>0.747927</td>\n",
       "      <td>0.234281</td>\n",
       "      <td>0.193354</td>\n",
       "      <td>0.313240</td>\n",
       "      <td>0.825308</td>\n",
       "      <td>0.704650</td>\n",
       "    </tr>\n",
       "    <tr>\n",
       "      <th>2</th>\n",
       "      <td>438.008357</td>\n",
       "      <td>-0.181139</td>\n",
       "      <td>-3.031083</td>\n",
       "      <td>125.703063</td>\n",
       "      <td>0.167344</td>\n",
       "      <td>0.004623</td>\n",
       "      <td>0.986597</td>\n",
       "      <td>0.004545</td>\n",
       "      <td>1.001379</td>\n",
       "      <td>0.440523</td>\n",
       "      <td>0.218649</td>\n",
       "      <td>0.439917</td>\n",
       "      <td>0.496338</td>\n",
       "      <td>0.487496</td>\n",
       "    </tr>\n",
       "    <tr>\n",
       "      <th>3</th>\n",
       "      <td>484.860421</td>\n",
       "      <td>0.251986</td>\n",
       "      <td>2.855706</td>\n",
       "      <td>126.215853</td>\n",
       "      <td>0.119238</td>\n",
       "      <td>0.002066</td>\n",
       "      <td>1.218467</td>\n",
       "      <td>0.006740</td>\n",
       "      <td>0.761892</td>\n",
       "      <td>0.228160</td>\n",
       "      <td>0.193810</td>\n",
       "      <td>0.299465</td>\n",
       "      <td>0.849449</td>\n",
       "      <td>0.594872</td>\n",
       "    </tr>\n",
       "    <tr>\n",
       "      <th>4</th>\n",
       "      <td>486.141137</td>\n",
       "      <td>-1.917812</td>\n",
       "      <td>-2.221953</td>\n",
       "      <td>132.182504</td>\n",
       "      <td>0.103632</td>\n",
       "      <td>0.001438</td>\n",
       "      <td>1.291784</td>\n",
       "      <td>0.000398</td>\n",
       "      <td>0.722656</td>\n",
       "      <td>0.166851</td>\n",
       "      <td>0.148080</td>\n",
       "      <td>0.230886</td>\n",
       "      <td>0.887497</td>\n",
       "      <td>0.678118</td>\n",
       "    </tr>\n",
       "    <tr>\n",
       "      <th>...</th>\n",
       "      <td>...</td>\n",
       "      <td>...</td>\n",
       "      <td>...</td>\n",
       "      <td>...</td>\n",
       "      <td>...</td>\n",
       "      <td>...</td>\n",
       "      <td>...</td>\n",
       "      <td>...</td>\n",
       "      <td>...</td>\n",
       "      <td>...</td>\n",
       "      <td>...</td>\n",
       "      <td>...</td>\n",
       "      <td>...</td>\n",
       "      <td>...</td>\n",
       "    </tr>\n",
       "    <tr>\n",
       "      <th>99995</th>\n",
       "      <td>478.658254</td>\n",
       "      <td>-0.837586</td>\n",
       "      <td>-2.609921</td>\n",
       "      <td>125.707302</td>\n",
       "      <td>0.138041</td>\n",
       "      <td>0.001494</td>\n",
       "      <td>0.567994</td>\n",
       "      <td>0.000953</td>\n",
       "      <td>1.192189</td>\n",
       "      <td>0.131294</td>\n",
       "      <td>0.109689</td>\n",
       "      <td>0.110129</td>\n",
       "      <td>0.835446</td>\n",
       "      <td>0.504678</td>\n",
       "    </tr>\n",
       "    <tr>\n",
       "      <th>99996</th>\n",
       "      <td>465.171259</td>\n",
       "      <td>0.429341</td>\n",
       "      <td>-1.446681</td>\n",
       "      <td>129.749906</td>\n",
       "      <td>0.135890</td>\n",
       "      <td>0.002071</td>\n",
       "      <td>0.825176</td>\n",
       "      <td>0.005110</td>\n",
       "      <td>0.751448</td>\n",
       "      <td>0.140336</td>\n",
       "      <td>0.115123</td>\n",
       "      <td>0.186755</td>\n",
       "      <td>0.820334</td>\n",
       "      <td>0.586032</td>\n",
       "    </tr>\n",
       "    <tr>\n",
       "      <th>99997</th>\n",
       "      <td>466.920808</td>\n",
       "      <td>-0.805493</td>\n",
       "      <td>-0.754703</td>\n",
       "      <td>49.069161</td>\n",
       "      <td>0.020281</td>\n",
       "      <td>0.000121</td>\n",
       "      <td>14.506839</td>\n",
       "      <td>0.004768</td>\n",
       "      <td>0.864723</td>\n",
       "      <td>0.568722</td>\n",
       "      <td>0.395942</td>\n",
       "      <td>0.657693</td>\n",
       "      <td>0.696196</td>\n",
       "      <td>0.018073</td>\n",
       "    </tr>\n",
       "    <tr>\n",
       "      <th>99998</th>\n",
       "      <td>471.611853</td>\n",
       "      <td>0.801813</td>\n",
       "      <td>-3.077883</td>\n",
       "      <td>117.186361</td>\n",
       "      <td>0.102276</td>\n",
       "      <td>0.002399</td>\n",
       "      <td>2.242231</td>\n",
       "      <td>0.006947</td>\n",
       "      <td>0.759346</td>\n",
       "      <td>0.318427</td>\n",
       "      <td>0.274153</td>\n",
       "      <td>0.419343</td>\n",
       "      <td>0.860960</td>\n",
       "      <td>0.641892</td>\n",
       "    </tr>\n",
       "    <tr>\n",
       "      <th>99999</th>\n",
       "      <td>467.029906</td>\n",
       "      <td>-0.432315</td>\n",
       "      <td>2.483939</td>\n",
       "      <td>64.187269</td>\n",
       "      <td>0.031847</td>\n",
       "      <td>0.000260</td>\n",
       "      <td>8.061788</td>\n",
       "      <td>0.011270</td>\n",
       "      <td>0.783730</td>\n",
       "      <td>0.437477</td>\n",
       "      <td>0.391823</td>\n",
       "      <td>0.558199</td>\n",
       "      <td>0.895643</td>\n",
       "      <td>0.855158</td>\n",
       "    </tr>\n",
       "  </tbody>\n",
       "</table>\n",
       "<p>100000 rows × 14 columns</p>\n",
       "</div>"
      ],
      "text/plain": [
       "               pt       eta       phi        mass       ee2       ee3  \\\n",
       "0      472.074292  0.137052 -2.535145  125.150365  0.126581  0.002633   \n",
       "1      470.405678 -0.039157  0.069669  130.552672  0.118071  0.002379   \n",
       "2      438.008357 -0.181139 -3.031083  125.703063  0.167344  0.004623   \n",
       "3      484.860421  0.251986  2.855706  126.215853  0.119238  0.002066   \n",
       "4      486.141137 -1.917812 -2.221953  132.182504  0.103632  0.001438   \n",
       "...           ...       ...       ...         ...       ...       ...   \n",
       "99995  478.658254 -0.837586 -2.609921  125.707302  0.138041  0.001494   \n",
       "99996  465.171259  0.429341 -1.446681  129.749906  0.135890  0.002071   \n",
       "99997  466.920808 -0.805493 -0.754703   49.069161  0.020281  0.000121   \n",
       "99998  471.611853  0.801813 -3.077883  117.186361  0.102276  0.002399   \n",
       "99999  467.029906 -0.432315  2.483939   64.187269  0.031847  0.000260   \n",
       "\n",
       "              d2  angularity        t1        t2        t3       t21  \\\n",
       "0       1.298020    0.008218  0.739787  0.283689  0.174944  0.383474   \n",
       "1       1.445626    0.013822  0.747927  0.234281  0.193354  0.313240   \n",
       "2       0.986597    0.004545  1.001379  0.440523  0.218649  0.439917   \n",
       "3       1.218467    0.006740  0.761892  0.228160  0.193810  0.299465   \n",
       "4       1.291784    0.000398  0.722656  0.166851  0.148080  0.230886   \n",
       "...          ...         ...       ...       ...       ...       ...   \n",
       "99995   0.567994    0.000953  1.192189  0.131294  0.109689  0.110129   \n",
       "99996   0.825176    0.005110  0.751448  0.140336  0.115123  0.186755   \n",
       "99997  14.506839    0.004768  0.864723  0.568722  0.395942  0.657693   \n",
       "99998   2.242231    0.006947  0.759346  0.318427  0.274153  0.419343   \n",
       "99999   8.061788    0.011270  0.783730  0.437477  0.391823  0.558199   \n",
       "\n",
       "            t32  KtDeltaR  \n",
       "0      0.616674  0.557407  \n",
       "1      0.825308  0.704650  \n",
       "2      0.496338  0.487496  \n",
       "3      0.849449  0.594872  \n",
       "4      0.887497  0.678118  \n",
       "...         ...       ...  \n",
       "99995  0.835446  0.504678  \n",
       "99996  0.820334  0.586032  \n",
       "99997  0.696196  0.018073  \n",
       "99998  0.860960  0.641892  \n",
       "99999  0.895643  0.855158  \n",
       "\n",
       "[100000 rows x 14 columns]"
      ]
     },
     "execution_count": 2,
     "metadata": {},
     "output_type": "execute_result"
    }
   ],
   "source": [
    "pickle_higgs = open('higgs_100000_pt_250_500.pkl', 'rb')\n",
    "higgs = pk.load(pickle_higgs)\n",
    "print(higgs.ndim, higgs.size)\n",
    "higgs"
   ]
  },
  {
   "cell_type": "code",
   "execution_count": 3,
   "metadata": {},
   "outputs": [
    {
     "name": "stdout",
     "output_type": "stream",
     "text": [
      "2 1400000\n"
     ]
    },
    {
     "data": {
      "text/html": [
       "<div>\n",
       "<style scoped>\n",
       "    .dataframe tbody tr th:only-of-type {\n",
       "        vertical-align: middle;\n",
       "    }\n",
       "\n",
       "    .dataframe tbody tr th {\n",
       "        vertical-align: top;\n",
       "    }\n",
       "\n",
       "    .dataframe thead th {\n",
       "        text-align: right;\n",
       "    }\n",
       "</style>\n",
       "<table border=\"1\" class=\"dataframe\">\n",
       "  <thead>\n",
       "    <tr style=\"text-align: right;\">\n",
       "      <th></th>\n",
       "      <th>pt</th>\n",
       "      <th>eta</th>\n",
       "      <th>phi</th>\n",
       "      <th>mass</th>\n",
       "      <th>ee2</th>\n",
       "      <th>ee3</th>\n",
       "      <th>d2</th>\n",
       "      <th>angularity</th>\n",
       "      <th>t1</th>\n",
       "      <th>t2</th>\n",
       "      <th>t3</th>\n",
       "      <th>t21</th>\n",
       "      <th>t32</th>\n",
       "      <th>KtDeltaR</th>\n",
       "    </tr>\n",
       "  </thead>\n",
       "  <tbody>\n",
       "    <tr>\n",
       "      <th>0</th>\n",
       "      <td>489.631389</td>\n",
       "      <td>1.955969</td>\n",
       "      <td>1.803007</td>\n",
       "      <td>125.298720</td>\n",
       "      <td>0.099409</td>\n",
       "      <td>0.003247</td>\n",
       "      <td>3.304886</td>\n",
       "      <td>0.000528</td>\n",
       "      <td>0.846096</td>\n",
       "      <td>0.586658</td>\n",
       "      <td>0.439468</td>\n",
       "      <td>0.693370</td>\n",
       "      <td>0.749105</td>\n",
       "      <td>0.333731</td>\n",
       "    </tr>\n",
       "    <tr>\n",
       "      <th>1</th>\n",
       "      <td>401.041884</td>\n",
       "      <td>-1.170413</td>\n",
       "      <td>0.188817</td>\n",
       "      <td>88.047054</td>\n",
       "      <td>0.101181</td>\n",
       "      <td>0.002527</td>\n",
       "      <td>2.439089</td>\n",
       "      <td>0.001561</td>\n",
       "      <td>0.852379</td>\n",
       "      <td>0.517657</td>\n",
       "      <td>0.336052</td>\n",
       "      <td>0.607308</td>\n",
       "      <td>0.649178</td>\n",
       "      <td>0.477481</td>\n",
       "    </tr>\n",
       "    <tr>\n",
       "      <th>2</th>\n",
       "      <td>447.487556</td>\n",
       "      <td>1.861736</td>\n",
       "      <td>-2.326646</td>\n",
       "      <td>85.794174</td>\n",
       "      <td>0.069372</td>\n",
       "      <td>0.001375</td>\n",
       "      <td>4.118371</td>\n",
       "      <td>0.000197</td>\n",
       "      <td>0.979133</td>\n",
       "      <td>0.815123</td>\n",
       "      <td>0.700152</td>\n",
       "      <td>0.832495</td>\n",
       "      <td>0.858953</td>\n",
       "      <td>0.117091</td>\n",
       "    </tr>\n",
       "    <tr>\n",
       "      <th>3</th>\n",
       "      <td>402.652836</td>\n",
       "      <td>1.276421</td>\n",
       "      <td>-1.124176</td>\n",
       "      <td>42.947328</td>\n",
       "      <td>0.032095</td>\n",
       "      <td>0.000266</td>\n",
       "      <td>8.038338</td>\n",
       "      <td>0.001144</td>\n",
       "      <td>1.020193</td>\n",
       "      <td>0.664347</td>\n",
       "      <td>0.617499</td>\n",
       "      <td>0.651197</td>\n",
       "      <td>0.929482</td>\n",
       "      <td>0.054606</td>\n",
       "    </tr>\n",
       "    <tr>\n",
       "      <th>4</th>\n",
       "      <td>484.257672</td>\n",
       "      <td>-1.272225</td>\n",
       "      <td>1.966794</td>\n",
       "      <td>59.542227</td>\n",
       "      <td>0.038348</td>\n",
       "      <td>0.000358</td>\n",
       "      <td>6.353842</td>\n",
       "      <td>0.001619</td>\n",
       "      <td>0.875408</td>\n",
       "      <td>0.436270</td>\n",
       "      <td>0.376816</td>\n",
       "      <td>0.498362</td>\n",
       "      <td>0.863723</td>\n",
       "      <td>0.095201</td>\n",
       "    </tr>\n",
       "    <tr>\n",
       "      <th>...</th>\n",
       "      <td>...</td>\n",
       "      <td>...</td>\n",
       "      <td>...</td>\n",
       "      <td>...</td>\n",
       "      <td>...</td>\n",
       "      <td>...</td>\n",
       "      <td>...</td>\n",
       "      <td>...</td>\n",
       "      <td>...</td>\n",
       "      <td>...</td>\n",
       "      <td>...</td>\n",
       "      <td>...</td>\n",
       "      <td>...</td>\n",
       "      <td>...</td>\n",
       "    </tr>\n",
       "    <tr>\n",
       "      <th>99995</th>\n",
       "      <td>418.171225</td>\n",
       "      <td>1.804938</td>\n",
       "      <td>-1.555512</td>\n",
       "      <td>67.399102</td>\n",
       "      <td>0.047555</td>\n",
       "      <td>0.000669</td>\n",
       "      <td>6.216951</td>\n",
       "      <td>0.000335</td>\n",
       "      <td>0.794253</td>\n",
       "      <td>0.734325</td>\n",
       "      <td>0.533141</td>\n",
       "      <td>0.924548</td>\n",
       "      <td>0.726028</td>\n",
       "      <td>0.039376</td>\n",
       "    </tr>\n",
       "    <tr>\n",
       "      <th>99996</th>\n",
       "      <td>492.119236</td>\n",
       "      <td>-0.037258</td>\n",
       "      <td>0.037888</td>\n",
       "      <td>90.775772</td>\n",
       "      <td>0.095329</td>\n",
       "      <td>0.001090</td>\n",
       "      <td>1.258409</td>\n",
       "      <td>0.005327</td>\n",
       "      <td>0.849051</td>\n",
       "      <td>0.285315</td>\n",
       "      <td>0.177652</td>\n",
       "      <td>0.336041</td>\n",
       "      <td>0.622651</td>\n",
       "      <td>0.321335</td>\n",
       "    </tr>\n",
       "    <tr>\n",
       "      <th>99997</th>\n",
       "      <td>492.932552</td>\n",
       "      <td>-0.912632</td>\n",
       "      <td>0.578690</td>\n",
       "      <td>106.611253</td>\n",
       "      <td>0.078793</td>\n",
       "      <td>0.002331</td>\n",
       "      <td>4.764786</td>\n",
       "      <td>0.004449</td>\n",
       "      <td>0.951293</td>\n",
       "      <td>0.789768</td>\n",
       "      <td>0.620329</td>\n",
       "      <td>0.830205</td>\n",
       "      <td>0.785457</td>\n",
       "      <td>0.053165</td>\n",
       "    </tr>\n",
       "    <tr>\n",
       "      <th>99998</th>\n",
       "      <td>402.673975</td>\n",
       "      <td>-1.736921</td>\n",
       "      <td>-2.103913</td>\n",
       "      <td>66.278542</td>\n",
       "      <td>0.066585</td>\n",
       "      <td>0.000851</td>\n",
       "      <td>2.881152</td>\n",
       "      <td>0.000324</td>\n",
       "      <td>0.831466</td>\n",
       "      <td>0.488685</td>\n",
       "      <td>0.429960</td>\n",
       "      <td>0.587739</td>\n",
       "      <td>0.879831</td>\n",
       "      <td>0.212806</td>\n",
       "    </tr>\n",
       "    <tr>\n",
       "      <th>99999</th>\n",
       "      <td>454.801644</td>\n",
       "      <td>1.059727</td>\n",
       "      <td>1.462793</td>\n",
       "      <td>62.786390</td>\n",
       "      <td>0.062568</td>\n",
       "      <td>0.000652</td>\n",
       "      <td>2.661545</td>\n",
       "      <td>0.001104</td>\n",
       "      <td>0.962824</td>\n",
       "      <td>0.439327</td>\n",
       "      <td>0.389692</td>\n",
       "      <td>0.456290</td>\n",
       "      <td>0.887021</td>\n",
       "      <td>0.175638</td>\n",
       "    </tr>\n",
       "  </tbody>\n",
       "</table>\n",
       "<p>100000 rows × 14 columns</p>\n",
       "</div>"
      ],
      "text/plain": [
       "               pt       eta       phi        mass       ee2       ee3  \\\n",
       "0      489.631389  1.955969  1.803007  125.298720  0.099409  0.003247   \n",
       "1      401.041884 -1.170413  0.188817   88.047054  0.101181  0.002527   \n",
       "2      447.487556  1.861736 -2.326646   85.794174  0.069372  0.001375   \n",
       "3      402.652836  1.276421 -1.124176   42.947328  0.032095  0.000266   \n",
       "4      484.257672 -1.272225  1.966794   59.542227  0.038348  0.000358   \n",
       "...           ...       ...       ...         ...       ...       ...   \n",
       "99995  418.171225  1.804938 -1.555512   67.399102  0.047555  0.000669   \n",
       "99996  492.119236 -0.037258  0.037888   90.775772  0.095329  0.001090   \n",
       "99997  492.932552 -0.912632  0.578690  106.611253  0.078793  0.002331   \n",
       "99998  402.673975 -1.736921 -2.103913   66.278542  0.066585  0.000851   \n",
       "99999  454.801644  1.059727  1.462793   62.786390  0.062568  0.000652   \n",
       "\n",
       "             d2  angularity        t1        t2        t3       t21       t32  \\\n",
       "0      3.304886    0.000528  0.846096  0.586658  0.439468  0.693370  0.749105   \n",
       "1      2.439089    0.001561  0.852379  0.517657  0.336052  0.607308  0.649178   \n",
       "2      4.118371    0.000197  0.979133  0.815123  0.700152  0.832495  0.858953   \n",
       "3      8.038338    0.001144  1.020193  0.664347  0.617499  0.651197  0.929482   \n",
       "4      6.353842    0.001619  0.875408  0.436270  0.376816  0.498362  0.863723   \n",
       "...         ...         ...       ...       ...       ...       ...       ...   \n",
       "99995  6.216951    0.000335  0.794253  0.734325  0.533141  0.924548  0.726028   \n",
       "99996  1.258409    0.005327  0.849051  0.285315  0.177652  0.336041  0.622651   \n",
       "99997  4.764786    0.004449  0.951293  0.789768  0.620329  0.830205  0.785457   \n",
       "99998  2.881152    0.000324  0.831466  0.488685  0.429960  0.587739  0.879831   \n",
       "99999  2.661545    0.001104  0.962824  0.439327  0.389692  0.456290  0.887021   \n",
       "\n",
       "       KtDeltaR  \n",
       "0      0.333731  \n",
       "1      0.477481  \n",
       "2      0.117091  \n",
       "3      0.054606  \n",
       "4      0.095201  \n",
       "...         ...  \n",
       "99995  0.039376  \n",
       "99996  0.321335  \n",
       "99997  0.053165  \n",
       "99998  0.212806  \n",
       "99999  0.175638  \n",
       "\n",
       "[100000 rows x 14 columns]"
      ]
     },
     "execution_count": 3,
     "metadata": {},
     "output_type": "execute_result"
    }
   ],
   "source": [
    "pickle_qcd = open('qcd_100000_pt_250_500.pkl', 'rb')\n",
    "qcd = pk.load(pickle_qcd)\n",
    "print(qcd.ndim, qcd.size)\n",
    "qcd"
   ]
  },
  {
   "cell_type": "markdown",
   "metadata": {},
   "source": [
    "#### Variables\n",
    "- Each dataset (Higgs and QCD) have 14 features: $p_T$, $\\eta$ (eta), $\\phi$ (phi), 'mass', $e_2$, $e_3$, $D_2$, 'angularity', $\\tau_1$, $\\tau_2$, $\\tau_3$, $\\tau_{21}$, $\\tau_{32}$, $Kt\\Delta R$\n",
    "- $p_T$ - Transverse Momentum\n",
    "   - According to the papers provided, all simulated datapoints require a minimum $p_T$ value of 250 GeV to be counted as a possible signal; our entire QCD and Higgs sets of points have minimum $p_T$ measurements of this value or greater\n",
    "- $\\eta$ (eta) - Psudorapidity\n",
    "  - For true Higgs boson detections, the papers describe that when the minimum $p_T$ value is set to 250 GeV, the maximum value for $\\left|\\eta\\right|$ is less than or equal to 2.0\n",
    "- $\\phi$ (phi) - Azimuthal Angle\n",
    "- mass - Transverse Invariant Mass\n",
    "- Energy Corelation Functions (ECF)\n",
    "  - $e_2$ **-   2-point ECF**\n",
    "  - $e_3$ **-   3-point ECF**\n",
    "  - $D_2$ **-   ratio of ee2 and ee3** \n",
    "- Angularity\n",
    "- $\\tau_1$, $\\tau_2$, $\\tau_3$, $\\tau_{21}$, $\\tau_{32}$ are N-subjettyness\n",
    "- $Kt\\Delta R$ is the $\\Delta R$ value of two subjets within the large-R jet"
   ]
  },
  {
   "cell_type": "code",
   "execution_count": 4,
   "metadata": {},
   "outputs": [],
   "source": [
    "#Define Higgs variables\n",
    "hMass = higgs['mass']\n",
    "hPt = higgs['pt']\n",
    "hEta = higgs['eta']\n",
    "hPhi = higgs['phi']\n",
    "hEe2 = higgs['ee2']\n",
    "hEe3 = higgs['ee3']\n",
    "hD2 = higgs['d2']\n",
    "hAngularity = higgs['angularity']\n",
    "hT1 = higgs['t1']\n",
    "hT2 = higgs['t2']\n",
    "hT3 = higgs['t3']\n",
    "hT21 = higgs['t21']\n",
    "hT32 = higgs['t32']\n",
    "hKtDeltaR = higgs['KtDeltaR']\n",
    "\n",
    "# Do the same for QCD background\n",
    "qMass = qcd['mass']\n",
    "qPt = qcd['pt']\n",
    "qEta = qcd['eta']\n",
    "qPhi = qcd['phi']\n",
    "qEe2 = qcd['ee2']\n",
    "qEe3 = qcd['ee3']\n",
    "qD2 = qcd['d2']\n",
    "qAngularity = qcd['angularity']\n",
    "qT1 = qcd['t1']\n",
    "qT2 = qcd['t2']\n",
    "qT3 = qcd['t3']\n",
    "qT21 = qcd['t21']\n",
    "qT32 = qcd['t32']\n",
    "qKtDeltaR = qcd['KtDeltaR']"
   ]
  },
  {
   "cell_type": "code",
   "execution_count": 5,
   "metadata": {},
   "outputs": [
    {
     "data": {
      "image/png": "[encoded data removed]",
      "text/plain": [
       "<Figure size 1440x1080 with 1 Axes>"
      ]
     },
     "metadata": {
      "needs_background": "light"
     },
     "output_type": "display_data"
    }
   ],
   "source": [
    "fig, ax = plt.subplots(1,1)\n",
    "plt.yscale('log')\n",
    "n_bins = 100\n",
    "ax.hist((qMass, hMass), bins=n_bins, density=True, histtype='bar', stacked=True, label=('QCD', 'Higgs'))\n",
    "ax.set_title('Stacked Histogram of Higgs and QCD Mass Values',size=25)\n",
    "ax.set_xlabel('Number of Particles with given Mass', size=20)\n",
    "ax.set_ylabel('Mass Measurement', size=20)\n",
    "ax.legend(loc='best')\n",
    "plt.show()"
   ]
  },
  {
   "cell_type": "code",
   "execution_count": 6,
   "metadata": {},
   "outputs": [
    {
     "data": {
      "text/plain": [
       "0.7071067811865475"
      ]
     },
     "execution_count": 6,
     "metadata": {},
     "output_type": "execute_result"
    }
   ],
   "source": [
    "Nhiggs = 100\n",
    "Nqcd = 20000\n",
    "Nhiggs / np.sqrt(Nqcd)"
   ]
  },
  {
   "cell_type": "code",
   "execution_count": 7,
   "metadata": {},
   "outputs": [
    {
     "data": {
      "image/png": "[encoded data removed]",
      "text/plain": [
       "<Figure size 1440x1080 with 1 Axes>"
      ]
     },
     "metadata": {
      "needs_background": "light"
     },
     "output_type": "display_data"
    }
   ],
   "source": [
    "n_bins = 100\n",
    "n_higgs = 100\n",
    "n_qcd = 20000\n",
    "\n",
    "#qcd data \n",
    "hist_qcd, bins_q = np.histogram(qMass, bins=200, density=True)\n",
    "widths_qcd = np.diff(bins_q)\n",
    "hist_qcd *= n_qcd\n",
    "plt.yscale('log')\n",
    "plt.bar(bins_q[:-1], hist_qcd, widths_qcd, label = 'QCD Mass')\n",
    "\n",
    "# same plot for Higgs Data\n",
    "hist_higgs, bins_higgs = np.histogram(hMass, bins=200, density=True)\n",
    "widths_higgs = np.diff(bins_higgs)\n",
    "hist_higgs *= n_higgs\n",
    "plt.bar(bins_higgs[:-1], hist_higgs, widths_higgs, label = \"Higgs Mass\")\n",
    "\n",
    "plt.xlabel('Mass Value', size=20)\n",
    "plt.ylabel('Probability', size=20)\n",
    "plt.legend()\n",
    "plt.show()"
   ]
  },
  {
   "cell_type": "code",
   "execution_count": 8,
   "metadata": {},
   "outputs": [
    {
     "name": "stdout",
     "output_type": "stream",
     "text": [
      "20000.000000000025\n",
      "100.00000000000001\n"
     ]
    }
   ],
   "source": [
    "print(sum(hist_qcd * widths_qcd))\n",
    "print(sum(hist_higgs * widths_higgs))"
   ]
  },
  {
   "cell_type": "markdown",
   "metadata": {},
   "source": [
    "- Above, we see the normalized distributions by expected particle yield such that the area under both the Higgs and Background mass distributions are equal to the expected yields of particles, but on a log-scaled y-axis. \n",
    "  - The Higgs area is equal to 100 for an expected yield of 100 particles\n",
    "  - The Background area is equal to 20000 for an expected yield of 20000 particles"
   ]
  },
  {
   "cell_type": "code",
   "execution_count": 9,
   "metadata": {},
   "outputs": [
    {
     "name": "stdout",
     "output_type": "stream",
     "text": [
      "Probability for finding a 5 sigma detection is a probability of 2.87e-07\n",
      "The detection value on the x-axis would need to be less than or equal to a mass of 53.0 in order to be considered a legitimate detection of Higgs Data as opposed to being part of the background\n",
      "53.0=QCD low, 65.0=Higgs low, 1.2264150943396226=Low Ratio\n",
      "151.0=QCD high, 172.0=Higgs high, 1.1390728476821192=High Ratio\n"
     ]
    }
   ],
   "source": [
    "# Basic Significance (No Cuts)\n",
    "sigma5 = 1-stats.norm.cdf(5, loc=0, scale=1)\n",
    "print(f'Probability for finding a 5 sigma detection is a probability of {(sigma5):.3}')\n",
    "\n",
    "low5 = stats.poisson.ppf(sigma5, mu=np.mean(qMass))\n",
    "print(f'The detection value on the x-axis would need to be less than or equal to a mass of {low5} in order to be considered a legitimate detection of Higgs Data as opposed to being part of the background')\n",
    "low5h = stats.poisson.ppf(sigma5, mu=np.mean(hMass))\n",
    "print(f'{low5}=QCD low, {low5h}=Higgs low, {low5h / low5}=Low Ratio')\n",
    "high5 = stats.poisson.ppf(1-sigma5, mu=np.mean(qMass))\n",
    "high5h = stats.poisson.ppf(1-sigma5, mu=np.mean(hMass))\n",
    "print(f'{high5}=QCD high, {high5h}=Higgs high, {high5h / high5}=High Ratio')"
   ]
  },
  {
   "cell_type": "markdown",
   "metadata": {},
   "source": [
    "### Problem 2\n",
    "- I now want to identify mass cuts to optimize the expected significance\n",
    "- Mass cuts could theoretically be made such that we only measure particles within a certain mass window, making it more likely that a detection is a Higgs detection. This means we want masses of particles where it is more likely that they are Higgs particle detections than QCD background detections\n",
    "- Another way to look at it using our simulated data is we want as few of the 100000 background datapoints left and as many of the 100000 Higgs datapoints left as possible after choosing a given mass cut / mass window"
   ]
  },
  {
   "cell_type": "code",
   "execution_count": 10,
   "metadata": {},
   "outputs": [
    {
     "data": {
      "text/plain": [
       "(86710, 33133)"
      ]
     },
     "execution_count": 10,
     "metadata": {},
     "output_type": "execute_result"
    }
   ],
   "source": [
    "# Cut B: Tight Mass Window -- Only particles falling within one standard deviation of Mean Higgs Sample Mass Value\n",
    "hMassB = []\n",
    "qMassB = []\n",
    "hMean = np.mean(hMass)\n",
    "hStd = np.std(hMass) \n",
    "hMIN = hMean - hStd\n",
    "hMAX = hMean + hStd\n",
    "for i in range(len(hMass)):\n",
    "    if hMass[i] < hMAX and hMass[i] > hMIN:\n",
    "        hMassB.append(hMass[i])\n",
    "    if qMass[i] < hMAX and qMass[i] > hMIN:\n",
    "        qMassB.append(qMass[i])\n",
    "len(hMassB), len(qMassB)"
   ]
  },
  {
   "cell_type": "markdown",
   "metadata": {},
   "source": [
    "- On page 12 of ***Eur. Phys. J. C 79 (2019) 836*** linked in the provided HTML file, the authors discuss that a *tight mass window* was identified that contained 68% of the Higgs particles for any given dataset, so by setting the upper and lower bounds of my mass window to be 1 standard deviation above and below the mean Higgs mass value, I created my own tight mass window, which actuall contains more than 68% of the simulated Higgs data. \n",
    "  - As seen above, it contains roughly 86000 of the original 100000 simulated datapoints. \n",
    "  - After further experimenting with the values of upper and lower mass value bounds, the mass cut that returned the best significance values is found below\n",
    "    - This cut is further optimized bc while it contains much more background data, it also contains a lot of the removed Higgs data, which improves the significance"
   ]
  },
  {
   "cell_type": "code",
   "execution_count": 11,
   "metadata": {},
   "outputs": [
    {
     "data": {
      "text/plain": [
       "(97665, 80631)"
      ]
     },
     "execution_count": 11,
     "metadata": {},
     "output_type": "execute_result"
    }
   ],
   "source": [
    "# Cut C: Tighter Mass Window\n",
    "hMassC = []\n",
    "qMassC = []\n",
    "amass = 20\n",
    "bmass = 130\n",
    "hMINX = amass\n",
    "hMAXX = bmass\n",
    "for i in range(len(hMass)):\n",
    "    if hMass[i] < hMAXX and hMass[i] > hMINX:\n",
    "        hMassC.append(hMass[i])\n",
    "    if qMass[i] < hMAXX and qMass[i] > hMINX:\n",
    "        qMassC.append(qMass[i])\n",
    "len(hMassC), len(qMassC)"
   ]
  },
  {
   "cell_type": "code",
   "execution_count": 12,
   "metadata": {},
   "outputs": [
    {
     "data": {
      "image/png": "[encoded data removed]",
      "text/plain": [
       "<Figure size 1440x1080 with 1 Axes>"
      ]
     },
     "metadata": {
      "needs_background": "light"
     },
     "output_type": "display_data"
    },
    {
     "name": "stdout",
     "output_type": "stream",
     "text": [
      "20000.000000000004\n",
      "99.99999999999999\n"
     ]
    }
   ],
   "source": [
    "# Plotting Mass Cut C\n",
    "hist_qcd, bins_q = np.histogram(qMassC, bins=200, density=True)\n",
    "widths_qcd = np.diff(bins_q)\n",
    "hist_qcd *= n_qcd\n",
    "\n",
    "plt.bar(bins_q[:-1], hist_qcd, widths_qcd, label = 'QCD Mass')\n",
    "\n",
    "# same plot for Higgs Data\n",
    "hist_higgs, bins_higgs = np.histogram(hMassC, bins=200, density=True)\n",
    "widths_higgs = np.diff(bins_higgs)\n",
    "hist_higgs *= n_higgs\n",
    "plt.bar(bins_higgs[:-1], hist_higgs, widths_higgs, label = \"Higgs Mass\")\n",
    "\n",
    "plt.xlabel('Mass Value', size=20)\n",
    "plt.ylabel('Probability', size=20)\n",
    "plt.yscale('log')\n",
    "plt.legend()\n",
    "plt.show()\n",
    "print(sum(hist_qcd * widths_qcd))\n",
    "print(sum(hist_higgs * widths_higgs))"
   ]
  },
  {
   "cell_type": "code",
   "execution_count": 13,
   "metadata": {},
   "outputs": [
    {
     "name": "stdout",
     "output_type": "stream",
     "text": [
      "Probability for finding a 5 sigma detection is a probability of 2.87e-07\n",
      "The detection value on the x-axis would need to be less than or equal to a mass of 40.0 in order to be considered a legitimate detection of Higgs Data as opposed to being part of the background\n",
      "40.0=QCD low, 65.0=Higgs low, 1.625=Low Ratio\n",
      "129.0=QCD high, 172.0=Higgs high, 1.3333333333333333=High Ratio\n"
     ]
    }
   ],
   "source": [
    "Nhiggs = 100\n",
    "Nqcd = 20000\n",
    "Nhiggs / np.sqrt(Nqcd)\n",
    "sigma5 = 1-stats.norm.cdf(5, loc=0, scale=1)\n",
    "print(f'Probability for finding a 5 sigma detection is a probability of {(sigma5):.3}')\n",
    "\n",
    "low5C = stats.poisson.ppf(sigma5, mu=np.mean(qMassC))\n",
    "print(f'The detection value on the x-axis would need to be less than or equal to a mass of {low5C} in order to be considered a legitimate detection of Higgs Data as opposed to being part of the background')\n",
    "low5hC = stats.poisson.ppf(sigma5, mu=np.mean(hMassC))\n",
    "print(f'{low5C}=QCD low, {low5hC}=Higgs low, {low5hC / low5C}=Low Ratio')\n",
    "\n",
    "high5C = stats.poisson.ppf(1-sigma5, mu=np.mean(qMassC))\n",
    "high5hC = stats.poisson.ppf(1-sigma5, mu=np.mean(hMassC))\n",
    "print(f'{high5C}=QCD high, {high5hC}=Higgs high, {high5hC / high5C}=High Ratio')"
   ]
  },
  {
   "cell_type": "markdown",
   "metadata": {},
   "source": [
    "### Problem 3A\n",
    "- Now I want to identify variable cuts that would increase my significance values just like I did with mass cuts, but with other variables like Tau2"
   ]
  },
  {
   "cell_type": "code",
   "execution_count": 14,
   "metadata": {},
   "outputs": [
    {
     "data": {
      "image/png": "[encoded data removed]",
      "text/plain": [
       "<Figure size 1440x1080 with 1 Axes>"
      ]
     },
     "metadata": {
      "needs_background": "light"
     },
     "output_type": "display_data"
    }
   ],
   "source": [
    "n_bins = 100\n",
    "n_higgs = 100\n",
    "n_qcd = 20000\n",
    "\n",
    "#qcd data \n",
    "hist_qcd, bins_q = np.histogram(qT2, bins=200, density=True)\n",
    "widths_qcd = np.diff(bins_q)\n",
    "hist_qcd *= n_qcd\n",
    "plt.yscale('log')\n",
    "plt.bar(bins_q[:-1], hist_qcd, widths_qcd, label = 'QCD Tau2')\n",
    "\n",
    "# same plot for Higgs Data\n",
    "hist_higgs, bins_higgs = np.histogram(hT2, bins=200, density=True)\n",
    "widths_higgs = np.diff(bins_higgs)\n",
    "hist_higgs *= n_higgs\n",
    "plt.bar(bins_higgs[:-1], hist_higgs, widths_higgs, label = \"Higgs Tau2\")\n",
    "\n",
    "plt.xlabel('Tau2 Value', size=20)\n",
    "plt.ylabel('Probability', size=20)\n",
    "plt.legend()\n",
    "plt.show()"
   ]
  },
  {
   "cell_type": "code",
   "execution_count": 15,
   "metadata": {},
   "outputs": [
    {
     "name": "stdout",
     "output_type": "stream",
     "text": [
      "20000.000000000015\n",
      "100.00000000000001\n"
     ]
    }
   ],
   "source": [
    "print(sum(hist_qcd * widths_qcd))\n",
    "print(sum(hist_higgs * widths_higgs))"
   ]
  },
  {
   "cell_type": "code",
   "execution_count": 16,
   "metadata": {},
   "outputs": [
    {
     "name": "stdout",
     "output_type": "stream",
     "text": [
      "Probability for finding a 5 sigma detection is a probability of 2.87e-07\n",
      "The detection value on the x-axis would need to be less than or equal to a Tau2 value of 53.0 in order to be considered a legitimate detection of Higgs Data as opposed to being part of the background\n",
      "53.0=QCD low, 65.0=Higgs low, 7.786896960239908e-11=Low Ratio\n",
      "13.555728846331442=QCD high, 12.223570190208871=Higgs high, 0.9017272570716041=High Ratio\n"
     ]
    }
   ],
   "source": [
    "# Basic Tau2 Significance (No Cuts)\n",
    "sigma5 = stats.norm.sf(5, loc=0, scale=1)\n",
    "print(f'Probability for finding a 5 sigma detection is a probability of {(sigma5):.3}')\n",
    "\n",
    "low5e = stats.gamma.ppf(sigma5, a=np.mean(qT2))\n",
    "print(f'The detection value on the x-axis would need to be less than or equal to a Tau2 value of {low5} in order to be considered a legitimate detection of Higgs Data as opposed to being part of the background')\n",
    "low5he = stats.gamma.ppf(sigma5, a=np.mean(hT2))\n",
    "print(f'{low5}=QCD low, {low5h}=Higgs low, {low5he / low5e}=Low Ratio')\n",
    "high5 = stats.gamma.ppf(1-sigma5, a=np.mean(qT2))\n",
    "high5h = stats.gamma.ppf(1-sigma5, a=np.mean(hT2))\n",
    "print(f'{high5}=QCD high, {high5h}=Higgs high, {high5h / high5}=High Ratio')"
   ]
  },
  {
   "cell_type": "code",
   "execution_count": 17,
   "metadata": {},
   "outputs": [
    {
     "data": {
      "text/plain": [
       "(99929, 99857)"
      ]
     },
     "execution_count": 17,
     "metadata": {},
     "output_type": "execute_result"
    }
   ],
   "source": [
    "# Tau2 Cut A\n",
    "hT2A = []\n",
    "qT2A = []\n",
    "a = np.min(hT2)\n",
    "b = 1.0\n",
    "hMINt = a\n",
    "hMAXt = b\n",
    "for i in range(len(hT2)):\n",
    "    if hT2[i] < hMAXt and hT2[i] > hMINt:\n",
    "        hT2A.append(hT2[i])\n",
    "    if qT2[i] < hMAXt and qT2[i] > hMINt:\n",
    "        qT2A.append(qT2[i])\n",
    "len(hT2A), len(qT2A)"
   ]
  },
  {
   "cell_type": "code",
   "execution_count": 18,
   "metadata": {},
   "outputs": [
    {
     "data": {
      "image/png": "[encoded data removed]",
      "text/plain": [
       "<Figure size 1440x1080 with 1 Axes>"
      ]
     },
     "metadata": {
      "needs_background": "light"
     },
     "output_type": "display_data"
    }
   ],
   "source": [
    "# Plotting Tau2 Cut A\n",
    "#qcd data \n",
    "hist_qcd, bins_q = np.histogram(qT2A, bins=200, density=True)\n",
    "widths_qcd = np.diff(bins_q)\n",
    "hist_qcd *= n_qcd\n",
    "plt.yscale('log')\n",
    "plt.bar(bins_q[:-1], hist_qcd, widths_qcd, label = 'QCD Tau2')\n",
    "\n",
    "# same plot for Higgs Data\n",
    "hist_higgs, bins_higgs = np.histogram(hT2A, bins=200, density=True)\n",
    "widths_higgs = np.diff(bins_higgs)\n",
    "hist_higgs *= n_higgs\n",
    "plt.bar(bins_higgs[:-1], hist_higgs, widths_higgs, label = \"Higgs Tau2\")\n",
    "\n",
    "plt.xlabel('Tau2 Value', size=20)\n",
    "plt.ylabel('Probability', size=20)\n",
    "plt.legend()\n",
    "plt.show()"
   ]
  },
  {
   "cell_type": "code",
   "execution_count": 19,
   "metadata": {},
   "outputs": [
    {
     "name": "stdout",
     "output_type": "stream",
     "text": [
      "Probability for finding a 5 sigma detection is a probability of 2.87e-07\n",
      "The detection value on the x-axis would need to be less than or equal to a Ee2 value of 53.0 in order to be considered a legitimate detection of Higgs Data as opposed to being part of the background\n",
      "53.0=QCD low, 65.0=Higgs low, 7.327224207945296e-11=Low Ratio\n",
      "13.552816512789976=QCD high, 12.22027950778308=Higgs high, 0.901678222843985=High Ratio\n"
     ]
    }
   ],
   "source": [
    "# Tau2 Cut A Significance Calculations\n",
    "sigma5 = stats.norm.sf(5, loc=0, scale=1)\n",
    "print(f'Probability for finding a 5 sigma detection is a probability of {(sigma5):.3}')\n",
    "\n",
    "low5e = stats.gamma.ppf(sigma5, a=np.mean(qT2A))\n",
    "print(f'The detection value on the x-axis would need to be less than or equal to a Ee2 value of {low5} in order to be considered a legitimate detection of Higgs Data as opposed to being part of the background')\n",
    "low5he = stats.gamma.ppf(sigma5, a=np.mean(hT2A))\n",
    "print(f'{low5}=QCD low, {low5h}=Higgs low, {low5he / low5e}=Low Ratio')\n",
    "high5 = stats.gamma.ppf(1-sigma5, a=np.mean(qT2A))\n",
    "high5h = stats.gamma.ppf(1-sigma5, a=np.mean(hT2A))\n",
    "print(f'{high5}=QCD high, {high5h}=Higgs high, {high5h / high5}=High Ratio')"
   ]
  },
  {
   "cell_type": "markdown",
   "metadata": {},
   "source": [
    "- I could not identify another variable besides mass that was as discriminative as the mass variable (i.e. that had equal or better significance after a feature cut)\n",
    "### Problem 3B\n",
    "- Instead I could try to find a set of variables to cut along with mass so that in tandem they create a better significance than just one variable after the feature cuts\n",
    "- First I want to recreate my mass cut feature that also assigns the associated values for another variable from the same measurement to another array\n",
    "  - For example if the measurement device measures Particle 7 such that it lies in the mass window with a mass of Mass 7, I also want to keep the Transverse Momentum 7, or the $\\tau_2$ 7, etc. depending on which variable further optimizes the significance the most"
   ]
  },
  {
   "cell_type": "code",
   "execution_count": 64,
   "metadata": {},
   "outputs": [],
   "source": [
    "amass = 20\n",
    "bmass = 130\n",
    "a = np.min(hT2)\n",
    "b = 1.0"
   ]
  },
  {
   "cell_type": "code",
   "execution_count": 65,
   "metadata": {},
   "outputs": [
    {
     "name": "stdout",
     "output_type": "stream",
     "text": [
      "97665 80631\n",
      "97665 80631\n"
     ]
    }
   ],
   "source": [
    "# Recreating Mass Cut C's For-Loop, but making sure to include arrays for another variable to consider later for cuts\n",
    "hCut = []\n",
    "qCut = []\n",
    "hMassC = []\n",
    "qMassC = []\n",
    "\n",
    "hMINm = amass\n",
    "hMAXm = bmass\n",
    "for i in range(len(hMass)):\n",
    "    if hMass[i] < hMAXm and hMass[i] > hMINm:\n",
    "        hMassC.append(hMass[i])\n",
    "        hCut.append(hT2[i])\n",
    "    if qMass[i] < hMAXm and qMass[i] > hMINm:\n",
    "        qMassC.append(qMass[i])\n",
    "        qCut.append(qT2[i])\n",
    "print(len(hMassC), len(qMassC))\n",
    "print(len(hCut), len(qCut))"
   ]
  },
  {
   "cell_type": "markdown",
   "metadata": {},
   "source": [
    "- After creating the second array such that only datapoints within the mass window are counted for another variable like transverse momentum, I want to plot the histogram for the second variable to see if I can cut that variable further to continue increasing significance."
   ]
  },
  {
   "cell_type": "code",
   "execution_count": 66,
   "metadata": {},
   "outputs": [
    {
     "data": {
      "image/png": "[encoded data removed]",
      "text/plain": [
       "<Figure size 1440x1080 with 1 Axes>"
      ]
     },
     "metadata": {
      "needs_background": "light"
     },
     "output_type": "display_data"
    }
   ],
   "source": [
    "# Plotting Variable Cut with only Mass Window Values\n",
    "#qcd data \n",
    "hist_qcd, bins_q = np.histogram(qCut, bins=200, density=True)\n",
    "widths_qcd = np.diff(bins_q)\n",
    "hist_qcd *= n_qcd\n",
    "plt.yscale('log')\n",
    "plt.bar(bins_q[:-1], hist_qcd, widths_qcd, label = 'QCD T2')\n",
    "\n",
    "# same plot for Higgs Data\n",
    "hist_higgs, bins_higgs = np.histogram(hCut, bins=200, density=True)\n",
    "widths_higgs = np.diff(bins_higgs)\n",
    "hist_higgs *= n_higgs\n",
    "plt.bar(bins_higgs[:-1], hist_higgs, widths_higgs, label = \"Higgs T2\")\n",
    "\n",
    "plt.xlabel('T2 Values for Mass Window Detections', size=20)\n",
    "plt.ylabel('Probability', size=20)\n",
    "plt.legend()\n",
    "plt.show()"
   ]
  },
  {
   "cell_type": "code",
   "execution_count": 67,
   "metadata": {},
   "outputs": [
    {
     "name": "stdout",
     "output_type": "stream",
     "text": [
      "The detection value on the x-axis would need to be less than or equal to a Tau2 value of 3.6614528473731785e-11 in order to be considered a legitimate detection of Higgs Data as opposed to being part of the background\n",
      "3.6614528473731785e-11=QCD low, 6.1240720783324975e-22=Higgs low, 7.327224207945296e-11=Low Ratio\n",
      "13.723191023802222=QCD high, 12.228788590093274=Higgs high, 0.8911038670876927=High Ratio\n"
     ]
    }
   ],
   "source": [
    "# Basic Tau2 Significance (within Mass Cut)\n",
    "\n",
    "low5 = stats.gamma.ppf(sigma5, a=np.mean(qCut))\n",
    "print(f'The detection value on the x-axis would need to be less than or equal to a Tau2 value of {low5} in order to be considered a legitimate detection of Higgs Data as opposed to being part of the background')\n",
    "low5h = stats.gamma.ppf(sigma5, a=np.mean(hCut))\n",
    "print(f'{low5}=QCD low, {low5h}=Higgs low, {low5he / low5e}=Low Ratio')\n",
    "high5 = stats.gamma.ppf(1-sigma5, a=np.mean(qCut))\n",
    "high5h = stats.gamma.ppf(1-sigma5, a=np.mean(hCut))\n",
    "print(f'{high5}=QCD high, {high5h}=Higgs high, {high5h / high5}=High Ratio')\n",
    "\n",
    "# low5 = stats.norm.ppf(sigma5, loc=np.mean(qCut), scale=np.std(qCut))\n",
    "# print(f'The detection value on the x-axis would need to be less than or equal to a D2 value of {low5} in order to be considered a legitimate detection of Higgs Data as opposed to being part of the background')\n",
    "# low5h = stats.norm.ppf(sigma5, loc=np.mean(hCut), scale=np.std(hCut))\n",
    "# print(f'{low5}=QCD low, {low5h}=Higgs low, {low5h / low5}=Low Ratio')\n",
    "# high5 = stats.norm.ppf(1-sigma5, loc=np.mean(qCut), scale=np.std(qCut))\n",
    "# high5h = stats.norm.ppf(1-sigma5, loc=np.mean(hCut), scale=np.std(hCut))\n",
    "# print(f'{high5}=QCD high, {high5h}=Higgs high, {high5h / high5}=High Ratio')"
   ]
  },
  {
   "cell_type": "code",
   "execution_count": 68,
   "metadata": {},
   "outputs": [
    {
     "data": {
      "text/plain": [
       "(97596, 80515)"
      ]
     },
     "execution_count": 68,
     "metadata": {},
     "output_type": "execute_result"
    }
   ],
   "source": [
    "# Making Tau2 Cut within Mass Window Cut\n",
    "hCut2 = []\n",
    "qCut2 = []\n",
    "\n",
    "hMINt = a\n",
    "hMAXt = b\n",
    "for i in range(len(hCut)):\n",
    "    if hCut[i] < hMAXt and hCut[i] > hMINt:\n",
    "        hCut2.append(hCut[i])\n",
    "for i in range(len(qCut)):\n",
    "    if qCut[i] < hMAXt and qCut[i] > hMINt:\n",
    "        qCut2.append(qCut[i])\n",
    "len(hCut2), len(qCut2)"
   ]
  },
  {
   "cell_type": "code",
   "execution_count": 69,
   "metadata": {},
   "outputs": [
    {
     "data": {
      "image/png": "[encoded data removed]",
      "text/plain": [
       "<Figure size 1440x1080 with 1 Axes>"
      ]
     },
     "metadata": {
      "needs_background": "light"
     },
     "output_type": "display_data"
    }
   ],
   "source": [
    "# Plotting Variable Cut with Mass Window Values and Tau2 Cuts\n",
    "#qcd data \n",
    "hist_qcd, bins_q = np.histogram(qCut2, bins=200, density=True)\n",
    "widths_qcd = np.diff(bins_q)\n",
    "hist_qcd *= n_qcd\n",
    "plt.yscale('log')\n",
    "plt.bar(bins_q[:-1], hist_qcd, widths_qcd, label = 'QCD Tau2')\n",
    "\n",
    "# same plot for Higgs Data\n",
    "hist_higgs, bins_higgs = np.histogram(hCut2, bins=200, density=True)\n",
    "widths_higgs = np.diff(bins_higgs)\n",
    "hist_higgs *= n_higgs\n",
    "plt.bar(bins_higgs[:-1], hist_higgs, widths_higgs, label = \"Higgs Tau2\")\n",
    "\n",
    "plt.xlabel('Tau2 Values for Mass Window Detections and Tau2 Cut', size=20)\n",
    "plt.ylabel('Probability', size=20)\n",
    "plt.legend()\n",
    "plt.show()"
   ]
  },
  {
   "cell_type": "code",
   "execution_count": 70,
   "metadata": {},
   "outputs": [
    {
     "name": "stdout",
     "output_type": "stream",
     "text": [
      "Probability for finding a 5 sigma detection is a probability of 2.87e-07\n",
      "The detection value on the x-axis would need to be less than or equal to a D2 value of 3.570024414804002e-11 in order to be considered a legitimate detection of Higgs Data as opposed to being part of the background\n",
      "3.570024414804002e-11=QCD low, 5.593002898535251e-22=Higgs low, 7.327224207945296e-11=Low Ratio\n",
      "13.720541767364372=QCD high, 12.225519568506739=Higgs high, 0.8910376700711857=High Ratio\n"
     ]
    }
   ],
   "source": [
    "sigma5 = stats.norm.sf(5, loc=0, scale=1)\n",
    "print(f'Probability for finding a 5 sigma detection is a probability of {(sigma5):.3}')\n",
    "\n",
    "low5 = stats.gamma.ppf(sigma5, a=np.mean(qCut2))\n",
    "print(f'The detection value on the x-axis would need to be less than or equal to a D2 value of {low5} in order to be considered a legitimate detection of Higgs Data as opposed to being part of the background')\n",
    "low5h = stats.gamma.ppf(sigma5, a=np.mean(hCut2))\n",
    "print(f'{low5}=QCD low, {low5h}=Higgs low, {low5he / low5e}=Low Ratio')\n",
    "high5 = stats.gamma.ppf(1-sigma5, a=np.mean(qCut2))\n",
    "high5h = stats.gamma.ppf(1-sigma5, a=np.mean(hCut2))\n",
    "print(f'{high5}=QCD high, {high5h}=Higgs high, {high5h / high5}=High Ratio')\n",
    "\n",
    "# low5 = stats.norm.ppf(sigma5, loc=np.mean(qCut2), scale=np.std(qCut2))\n",
    "# print(f'The detection value on the x-axis would need to be less than or equal to a D2 value of {low5} in order to be considered a legitimate detection of Higgs Data as opposed to being part of the background')\n",
    "# low5h = stats.norm.ppf(sigma5, loc=np.mean(hCut2), scale=np.std(hCut2))\n",
    "# print(f'{low5}=QCD low, {low5h}=Higgs low, {low5h / low5}=Low Ratio')\n",
    "# high5 = stats.norm.ppf(1-sigma5, loc=np.mean(qCut2), scale=np.std(qCut2))\n",
    "# high5h = stats.norm.ppf(1-sigma5, loc=np.mean(hCut2), scale=np.std(hCut2))\n",
    "# print(f'{high5}=QCD high, {high5h}=Higgs high, {high5h / high5}=High Ratio')"
   ]
  },
  {
   "cell_type": "code",
   "execution_count": 71,
   "metadata": {},
   "outputs": [
    {
     "name": "stdout",
     "output_type": "stream",
     "text": [
      "97665 80631\n",
      "97665 80631\n",
      "40698 192\n",
      "40698 192\n"
     ]
    }
   ],
   "source": [
    "# Apply Mass window\n",
    "hCut = []\n",
    "qCut = []\n",
    "hMassC = []\n",
    "qMassC = []\n",
    "\n",
    "hMINm = amass\n",
    "hMAXm = bmass\n",
    "for i in range(len(hMass)):\n",
    "    if hMass[i] < hMAXm and hMass[i] > hMINm:\n",
    "        hMassC.append(hMass[i])\n",
    "        hCut.append(hD2[i])\n",
    "    if qMass[i] < hMAXm and qMass[i] > hMINm:\n",
    "        qMassC.append(qMass[i])\n",
    "        qCut.append(qD2[i])\n",
    "print(len(hMassC), len(qMassC))\n",
    "print(len(hCut), len(qCut))\n",
    "\n",
    "# Then apply Tau2 Window and Create New Array for only those masses\n",
    "hCut2 = []\n",
    "qCut2 = []\n",
    "hMassCuts = []\n",
    "qMassCuts = []\n",
    "\n",
    "hMINt = a\n",
    "hMAXt = b\n",
    "for i in range(len(hCut)):\n",
    "    if hCut[i] < hMAXt and hCut[i] > hMINt:\n",
    "        hCut2.append(hCut[i])\n",
    "        hMassCuts.append(hMassC[i])\n",
    "for i in range(len(qCut)):\n",
    "    if qCut[i] < hMAXt and qCut[i] > hMINt:\n",
    "        qCut2.append(qCut[i])\n",
    "        qMassCuts.append(qMassC[i])\n",
    "        \n",
    "print(len(hCut2), len(qCut2))\n",
    "print(len(hMassCuts), len(qMassCuts))"
   ]
  },
  {
   "cell_type": "code",
   "execution_count": 72,
   "metadata": {},
   "outputs": [
    {
     "data": {
      "image/png": "[encoded data removed]",
      "text/plain": [
       "<Figure size 1440x1080 with 1 Axes>"
      ]
     },
     "metadata": {
      "needs_background": "light"
     },
     "output_type": "display_data"
    }
   ],
   "source": [
    "# Plotting Masses within Mass Window and Tau2 Window\n",
    "#qcd data \n",
    "hist_qcd, bins_q = np.histogram(qMassCuts, bins=200, density=True)\n",
    "widths_qcd = np.diff(bins_q)\n",
    "hist_qcd *= n_qcd\n",
    "plt.yscale('log')\n",
    "plt.bar(bins_q[:-1], hist_qcd, widths_qcd, label = 'QCD Mass')\n",
    "\n",
    "# same plot for Higgs Data\n",
    "hist_higgs, bins_higgs = np.histogram(hMassCuts, bins=200, density=True)\n",
    "widths_higgs = np.diff(bins_higgs)\n",
    "hist_higgs *= n_higgs\n",
    "plt.bar(bins_higgs[:-1], hist_higgs, widths_higgs, label = \"Higgs Mass\")\n",
    "\n",
    "plt.xlabel('Mass Values within Mass and Tau2 Window', size=20)\n",
    "plt.ylabel('Probability', size=20)\n",
    "plt.legend()\n",
    "plt.show()"
   ]
  },
  {
   "cell_type": "code",
   "execution_count": 73,
   "metadata": {},
   "outputs": [
    {
     "name": "stdout",
     "output_type": "stream",
     "text": [
      "Probability for finding a 5 sigma detection is a probability of 2.87e-07\n",
      "The detection value on the x-axis would need to be less than or equal to a mass of 63.0 in order to be considered a legitimate detection of Higgs Data as opposed to being part of the background\n",
      "63.0=QCD low, 74.0=Higgs low, 1.1746031746031746=Low Ratio\n",
      "168.0=QCD high, 186.0=Higgs high, 1.1071428571428572=High Ratio\n"
     ]
    }
   ],
   "source": [
    "# Stats for Mass and Tau2 Window above\n",
    "sigma5 = 1-stats.norm.cdf(5, loc=0, scale=1)\n",
    "print(f'Probability for finding a 5 sigma detection is a probability of {(sigma5):.3}')\n",
    "\n",
    "low5C = stats.poisson.ppf(sigma5, mu=np.mean(qMassCuts))\n",
    "print(f'The detection value on the x-axis would need to be less than or equal to a mass of {low5C} in order to be considered a legitimate detection of Higgs Data as opposed to being part of the background')\n",
    "low5hC = stats.poisson.ppf(sigma5, mu=np.mean(hMassCuts))\n",
    "print(f'{low5C}=QCD low, {low5hC}=Higgs low, {low5hC / low5C}=Low Ratio')\n",
    "\n",
    "high5C = stats.poisson.ppf(1-sigma5, mu=np.mean(qMassCuts))\n",
    "high5hC = stats.poisson.ppf(1-sigma5, mu=np.mean(hMassCuts))\n",
    "print(f'{high5C}=QCD high, {high5hC}=Higgs high, {high5hC / high5C}=High Ratio')"
   ]
  },
  {
   "cell_type": "markdown",
   "metadata": {},
   "source": [
    "- We can compare these ratios above to the original ratios below for solely the mass cut to see if the significance has been improved"
   ]
  },
  {
   "cell_type": "code",
   "execution_count": 74,
   "metadata": {},
   "outputs": [
    {
     "name": "stdout",
     "output_type": "stream",
     "text": [
      "Probability for finding a 5 sigma detection is a probability of 2.87e-07\n",
      "The detection value on the x-axis would need to be less than or equal to a mass of 40.0 in order to be considered a legitimate detection of Higgs Data as opposed to being part of the background\n",
      "40.0=QCD low, 65.0=Higgs low, 1.625=Low Ratio\n",
      "129.0=QCD high, 172.0=Higgs high, 1.3333333333333333=High Ratio\n"
     ]
    }
   ],
   "source": [
    "# STATISTICS FOR MASS WINDOW ONLY\n",
    "Nhiggs = 100\n",
    "Nqcd = 20000\n",
    "Nhiggs / np.sqrt(Nqcd)\n",
    "sigma5 = 1-stats.norm.cdf(5, loc=0, scale=1)\n",
    "print(f'Probability for finding a 5 sigma detection is a probability of {(sigma5):.3}')\n",
    "\n",
    "low5C = stats.poisson.ppf(sigma5, mu=np.mean(qMassC))\n",
    "print(f'The detection value on the x-axis would need to be less than or equal to a mass of {low5C} in order to be considered a legitimate detection of Higgs Data as opposed to being part of the background')\n",
    "low5hC = stats.poisson.ppf(sigma5, mu=np.mean(hMassC))\n",
    "print(f'{low5C}=QCD low, {low5hC}=Higgs low, {low5hC / low5C}=Low Ratio')\n",
    "\n",
    "high5C = stats.poisson.ppf(1-sigma5, mu=np.mean(qMassC))\n",
    "high5hC = stats.poisson.ppf(1-sigma5, mu=np.mean(hMassC))\n",
    "print(f'{high5C}=QCD high, {high5hC}=Higgs high, {high5hC / high5C}=High Ratio')"
   ]
  },
  {
   "cell_type": "markdown",
   "metadata": {},
   "source": [
    "- After trying every variable to cut in tandem with the mass variable, I found that no variable when paired with mass and cut, would increase the significance after the feature cut in such a way that the significance became a value greater than or on par with the single mass cut significance value. \n",
    "  - Above is an example of one trial of a variable where I used $\\tau_2$ as my variable of choice, and then found that applying a $\\tau_2$ window alongside a mass window would not increase the significance, no matter the specifics of the tau window\n",
    "  - This was the case for all other variables. Applying them alongside the mass feature and then applying cuts to both variables only reduced the significance when we checked back on the mass significance values.\n",
    "### Problem 4\n",
    "- **Significance Improvements**\n",
    "  - Before any mass cuts, I had a significance value of 1.13 for the high ratio of significant detections and 1.22 for the low ratio of significant detection values\n",
    "  - After my feature cuts (solely my mass cut), I had a significance of 1.333 for the high ratio of significant detections and 1.625 for the low ratio of significant detections.\n",
    "    - My partner had a high ratio before any feature cuts of 0.75, and after the feature cut, achieved a ratio of 1.17.\n",
    "  - Overall, my mass cut improved the significance by a decent amount and the mass cut itself cannot be finetuned to produce further optimization of significance of the data, which was determined after several trials of changes to parameters pertaining to the mass cut. \n",
    "  - Since the mass cut cannot be optimized further, and the other variables do not help to increase the significance when cut alongside the mass cut, the mass cut is now my optimized event selection feature cut."
   ]
  },
  {
   "cell_type": "code",
   "execution_count": null,
   "metadata": {},
   "outputs": [],
   "source": []
  }
 ],
 "metadata": {
  "kernelspec": {
   "display_name": "Python 3",
   "language": "python",
   "name": "python3"
  },
  "language_info": {
   "codemirror_mode": {
    "name": "ipython",
    "version": 3
   },
   "file_extension": ".py",
   "mimetype": "text/x-python",
   "name": "python",
   "nbconvert_exporter": "python",
   "pygments_lexer": "ipython3",
   "version": "3.7.4"
  }
 },
 "nbformat": 4,
 "nbformat_minor": 4
}
