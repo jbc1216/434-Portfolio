{
 "cells": [
  {
   "cell_type": "code",
   "execution_count": 1,
   "metadata": {},
   "outputs": [],
   "source": [
    "%matplotlib inline\n",
    "import numpy as np\n",
    "import matplotlib\n",
    "import matplotlib.pyplot as plt\n",
    "import scipy\n",
    "from scipy import stats"
   ]
  },
  {
   "cell_type": "code",
   "execution_count": 2,
   "metadata": {},
   "outputs": [
    {
     "data": {
      "text/plain": [
       "0.7549029063256906"
      ]
     },
     "execution_count": 2,
     "metadata": {},
     "output_type": "execute_result"
    }
   ],
   "source": [
    "# Section 1.1.B) \n",
    "# Example of Z = 0.69 should equal 0.7549...\n",
    "# In Generalized Normal Distribution, loc = mu = 0, and scale = sigma = 1\n",
    "stats.norm.cdf(0.69, loc = 0, scale = 1)"
   ]
  },
  {
   "cell_type": "code",
   "execution_count": 3,
   "metadata": {},
   "outputs": [
    {
     "data": {
      "text/plain": [
       "0.9331927987311419"
      ]
     },
     "execution_count": 3,
     "metadata": {},
     "output_type": "execute_result"
    }
   ],
   "source": [
    "# Example of Z = 1.5 should equal 0.9331...\n",
    "stats.norm.cdf(1.5, loc = 0, scale = 1)"
   ]
  },
  {
   "cell_type": "code",
   "execution_count": 4,
   "metadata": {},
   "outputs": [
    {
     "data": {
      "text/plain": [
       "0.4676987991145084"
      ]
     },
     "execution_count": 4,
     "metadata": {},
     "output_type": "execute_result"
    }
   ],
   "source": [
    "# Section 1.1.C)\n",
    "# This inverse function returns the standard normal distribution for the input probability\n",
    "# i.e. the Z table value is returned and the box value should be 0.95 at that point\n",
    "stats.norm.ppf(.68, loc = 0, scale = 1)"
   ]
  },
  {
   "cell_type": "code",
   "execution_count": 5,
   "metadata": {},
   "outputs": [],
   "source": [
    "# so if I look up 1.6448536 in the z-table, I should find a value very close to 0.95\n",
    "# Table value for 1.64 is equal to 0.94950 which is approximately equal to 0.95"
   ]
  },
  {
   "cell_type": "code",
   "execution_count": 45,
   "metadata": {},
   "outputs": [
    {
     "data": {
      "image/png": "[encoded data removed]",
      "text/plain": [
       "<Figure size 432x288 with 1 Axes>"
      ]
     },
     "metadata": {
      "needs_background": "light"
     },
     "output_type": "display_data"
    }
   ],
   "source": [
    "# Section 2.1.B\n",
    "# For this section, I've chosen the exponential distribution\n",
    "\n",
    "from scipy.stats import expon\n",
    "fig, ax = plt.subplots(1, 1)\n",
    "plt.yscale('log')\n",
    "mean, var, skew, kurt = expon.stats(moments='mvsk')\n",
    "\n",
    "x = np.linspace(expon.ppf(0.01),\n",
    "               expon.ppf(0.999), 100)\n",
    "\n",
    "ax.plot(x, expon.pdf(x),\n",
    "       'r-', lw=10, alpha=.7, label='expon pdf')\n",
    "rv = expon()\n",
    "ax.plot(x, rv.pdf(x), 'k-', lw=2, label='frozen pdf')\n",
    "\n",
    "r = expon.rvs(size=1000)\n",
    "ax.hist(r, density=True, histtype='stepfilled', alpha=0.3)\n",
    "ax.legend(loc='best', frameon=False)\n",
    "plt.show()"
   ]
  },
  {
   "cell_type": "code",
   "execution_count": 20,
   "metadata": {},
   "outputs": [
    {
     "data": {
      "text/plain": [
       "True"
      ]
     },
     "execution_count": 20,
     "metadata": {},
     "output_type": "execute_result"
    }
   ],
   "source": [
    "ppf1 = expon.ppf([0.002, 0.8, 0.999])\n",
    "np.allclose([0.002, 0.8, 0.999], expon.cdf(ppf1))"
   ]
  },
  {
   "cell_type": "code",
   "execution_count": null,
   "metadata": {},
   "outputs": [],
   "source": []
  }
 ],
 "metadata": {
  "kernelspec": {
   "display_name": "Python 3",
   "language": "python",
   "name": "python3"
  },
  "language_info": {
   "codemirror_mode": {
    "name": "ipython",
    "version": 3
   },
   "file_extension": ".py",
   "mimetype": "text/x-python",
   "name": "python",
   "nbconvert_exporter": "python",
   "pygments_lexer": "ipython3",
   "version": "3.7.4"
  }
 },
 "nbformat": 4,
 "nbformat_minor": 4
}
