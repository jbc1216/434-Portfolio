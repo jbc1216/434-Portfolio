{
 "cells": [
  {
   "cell_type": "markdown",
   "metadata": {},
   "source": [
    "# Lab 02: Probability, Distributions, and Statistical Questions\n",
    "## Problem 1\n",
    "\n",
    "- In the hypothetical telescope I'm using, there is a background of cosmic-rays (electrons and protons, mostly) that provides a discrete noise term across the sky that precisely follows a Poisson distribution. To detect a gamma-ray source, I am asking what is the probability that the cosmic-ray background would have given me a measurement as signal-like or more than the signal that you received.\n",
    "  - I assume that in 1 day, the average cosmic-ray background labelled $\\lambda_X$, which is equal to 3\n",
    "  - I also assume that in 1 day, the average amount of gamma particles emitted from this source is labelled $\\lambda_Y$, which is equal to 8\n",
    "    - So I want to know what the probability is that the background Poisson distribution would give me a signal that is greater than or equal to my measurement of $\\lambda_Y=8$\n",
    "- I can define the general equation for a Poisson Distribution (P) as follows:\n",
    "  - $P(x;\\lambda) = e^{-\\lambda}\\lambda^{x} / x!$\n",
    "  - Where:\n",
    "    - x = some possible measurement of number of occurences of a specific event when those events occur independently at a constant rate\n",
    "    - $\\lambda$ = the average number of occurences\n",
    "- First, I want to show how the Poisson-distributed background over a single observation period where the background has the $\\lambda$ value of 3 that I previously chose"
   ]
  },
  {
   "cell_type": "code",
   "execution_count": 1,
   "metadata": {},
   "outputs": [],
   "source": [
    "# Finch's Imports\n",
    "import numpy as np\n",
    "import matplotlib\n",
    "import matplotlib.pyplot as plt\n",
    "import scipy\n",
    "import scipy.stats as stats\n",
    "import seaborn as sns\n",
    "import random\n",
    "%matplotlib inline"
   ]
  },
  {
   "cell_type": "code",
   "execution_count": 6,
   "metadata": {},
   "outputs": [
    {
     "data": {
      "image/png": "[encoded data removed]",
      "text/plain": [
       "<Figure size 432x288 with 1 Axes>"
      ]
     },
     "metadata": {
      "needs_background": "light"
     },
     "output_type": "display_data"
    }
   ],
   "source": [
    "# Let's plot a Day-1 Poisson Distribution\n",
    "fig, ax = plt.subplots(1,1)\n",
    "plt.yscale('log')\n",
    "lamX = muX = 3\n",
    "k = np.sort(stats.poisson.rvs(mu=muX, size=100))\n",
    "\n",
    "Poisson1 = stats.poisson.pmf(k, mu=muX)\n",
    "ax.plot(k, Poisson1, 'r-', ms=8, label='Poisson PMF')\n",
    "plt.xlabel('k = number of occurences')\n",
    "plt.ylabel('Probability of Measuring \\'k\\' occurences')\n",
    "plt.title('Day 1 Poisson')\n",
    "plt.show()"
   ]
  },
  {
   "cell_type": "markdown",
   "metadata": {},
   "source": [
    "- Above I can see the Poisson distribution with a $\\lambda = 3$ for one observation period with \n",
    "  - NOTE: The variance in any Poisson distribution is also equal to $\\lambda$\n",
    "  - From my research I know that convolving two probability mass functions will give the PMF of their sum, but I don't want the sum of their PMFs, I want the average PMF over a set amount of days (in this case 5 days (or 5 observation periods))\n",
    "  - I also find in my research that the $\\lambda_{sum}$ for two independent Poisson distributions $\\lambda_X$ and $\\lambda_Y$ can be found using the following relation:\n",
    "    - $\\lambda_{sum} = \\lambda_X + \\lambda_Y$\n",
    "    - So if I assume that each observation period is independent of the previous and future periods, then I know that each observation period will have a $\\lambda_{individual}$ of 3, my assumed emission occurence average of the background\n",
    "    - Therefore the $\\lambda_{5\\ day\\ sum}$ is equal to 5 days * mean of 3 each day, which is equal to 15\n",
    "- Let's show the distribution summed after 5 days"
   ]
  },
  {
   "cell_type": "code",
   "execution_count": 13,
   "metadata": {},
   "outputs": [
    {
     "data": {
      "text/plain": [
       "(496, 4996)"
      ]
     },
     "execution_count": 13,
     "metadata": {},
     "output_type": "execute_result"
    }
   ],
   "source": [
    "# Day5 = 4\n",
    "# for i in range(Day5):\n",
    "#    if i == 0:\n",
    "#        k = np.sort(stats.poisson.rvs(mu=lamdaX, size=1000))\n",
    "#        PoissonA = stats.poisson.pmf(k, muX)\n",
    "#        Poisson5 = np.convolve(PoissonA, PoissonA, mode='full')\n",
    "#    else:\n",
    "#        k5 = np.sort(stats.poisson.rvs(mu=muX*(i+1), size=len(Poisson5)))\n",
    "#        PoissonA = stats.poisson.pmf(k, muX)\n",
    "#        Poisson5 = np.convolve(PoissonA, Poisson5, mode='full')\n",
    "\n",
    "# Convolving each day's distribution one by one:     \n",
    "Poisson2 = np.convolve(Poisson1, Poisson1, mode='full')\n",
    "Poisson3 = np.convolve(Poisson2, Poisson1, mode='full')\n",
    "Poisson4 = np.convolve(Poisson3, Poisson1, mode='full')\n",
    "BPoisson5 = np.convolve(Poisson4, Poisson1, mode='full')\n",
    "len(BPoisson5), len(Poisson5)\n",
    "## LENGTHS ARE DIFFERENT, WHY?????"
   ]
  },
  {
   "cell_type": "code",
   "execution_count": 17,
   "metadata": {},
   "outputs": [
    {
     "data": {
      "image/png": "[encoded data removed]",
      "text/plain": [
       "<Figure size 432x288 with 1 Axes>"
      ]
     },
     "metadata": {
      "needs_background": "light"
     },
     "output_type": "display_data"
    }
   ],
   "source": [
    "#DO I USE BPOISSON5 OR POISSON5 FOR K VALUES\n",
    "fig, ax = plt.subplots(1,1)\n",
    "plt.yscale('log')\n",
    "muX = 3\n",
    "# Create a new x-axis of occurences over 5 day average?????\n",
    "k5 = np.sort(stats.poisson.rvs(mu=5*muX, size=len(BPoisson5)))\n",
    "\n",
    "\n",
    "# Plot a standard Poisson Distribution with a mu of 15\n",
    "## ax.plot(k5, stats.poisson.pmf(k5, mu=15), label='Poisson Fit')\n",
    "\n",
    "# Plot the Poisson Distribution averaged over 5 observing days\n",
    "ax.step(k5, BPoisson5, 'r-', ms=8, label='Poisson PMF')\n",
    "plt.xlabel('k = number of occurences')\n",
    "plt.title('5 Days of Poisson Distributions Summed Together')\n",
    "plt.show()"
   ]
  },
  {
   "cell_type": "markdown",
   "metadata": {},
   "source": [
    "- As we sum over more and more days, the mean becomes larger and larger, and the distribution becomes more and more normalized\n",
    "- The lower bound stays at zero on the 5-day average, but the upper bound becomes larger after each convolution\n",
    "- The Poisson distributions from 5 different observation periods can still be described as a Poisson from the following mathematical explanation:\n",
    "$\\begin{align*}\n",
    "  P(X+ Y =k) &= \\sum_{i = 0}^k P(X+ Y = k, X = i)\\\\\n",
    "    &= \\sum_{i=0}^k P(Y = k-i , X =i)\\\\\n",
    "    &= \\sum_{i=0}^k P(Y = k-i)P(X=i)\\\\\n",
    "    &= \\sum_{i=0}^k e^{-\\mu}\\frac{\\mu^{k-i}}{(k-i)!}e^{-\\lambda}\\frac{\\lambda^i}{i!}\\\\\n",
    "   &= e^{-(\\mu + \\lambda)}\\frac 1{k!}\\sum_{i=0}^k \\frac{k!}{i!(k-i)!}\\mu^{k-i}\\lambda^i\\\\\n",
    "   &= e^{-(\\mu + \\lambda)}\\frac 1{k!}\\sum_{i=0}^k \\binom ki\\mu^{k-i}\\lambda^i\\\\\n",
    "   &= \\frac{(\\mu + \\lambda)^k}{k!} \\cdot e^{-(\\mu + \\lambda)}\n",
    "\\end{align*}$\n",
    "\n",
    "  - Where I define $X$ as my Day 1 and $Y$ is my Day 2, and $X$ has a mean of $\\lambda$ and $Y$ has a mean of $\\mu$; We repeated this proof in our convolutions with Day 2 and Day 3, etc. until we had a sum for 5 observation periods with a mean $\\lambda_5$ equal to $\\sum_{i=1}^5 \\lambda_i$\n",
    "    - NOTE: This proof is only applicable because I consider my individual observation periods to be independent of one another"
   ]
  }
 ],
 "metadata": {
  "kernelspec": {
   "display_name": "Python 3",
   "language": "python",
   "name": "python3"
  },
  "language_info": {
   "codemirror_mode": {
    "name": "ipython",
    "version": 3
   },
   "file_extension": ".py",
   "mimetype": "text/x-python",
   "name": "python",
   "nbconvert_exporter": "python",
   "pygments_lexer": "ipython3",
   "version": "3.7.4"
  }
 },
 "nbformat": 4,
 "nbformat_minor": 4
}
